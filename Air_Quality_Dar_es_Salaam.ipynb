{
  "cells": [
    {
      "cell_type": "markdown",
      "metadata": {
        "id": "view-in-github",
        "colab_type": "text"
      },
      "source": [
        "<a href=\"https://colab.research.google.com/github/AdilRaheem/Air-Quality-Pediction/blob/main/Air_Quality_Dar_es_Salaam.ipynb\" target=\"_parent\"><img src=\"https://colab.research.google.com/assets/colab-badge.svg\" alt=\"Open In Colab\"/></a>"
      ]
    },
    {
      "cell_type": "code",
      "execution_count": 1,
      "id": "7d5f6062",
      "metadata": {
        "id": "7d5f6062"
      },
      "outputs": [],
      "source": [
        "import pandas as pd\n",
        "import numpy as np\n",
        "import matplotlib.pyplot as plt\n",
        "import plotly.express as px\n",
        "from sklearn.metrics import mean_absolute_error\n",
        "from statsmodels.graphics.tsaplots import plot_acf, plot_pacf\n",
        "from statsmodels.tsa.arima.model import ARIMA\n",
        "from statsmodels.tsa.ar_model import AutoReg"
      ]
    },
    {
      "cell_type": "code",
      "execution_count": 6,
      "id": "78c26d12",
      "metadata": {
        "id": "78c26d12"
      },
      "outputs": [],
      "source": [
        "df1 = pd.read_csv('/content/drive/MyDrive/WorldQuant DS Practice/Air quality/august_2018_sensor_data_archive.csv', low_memory=False)\n",
        "df2 = pd.read_csv('/content/drive/MyDrive/WorldQuant DS Practice/Air quality/september_2018_sensor_data_archive.csv', low_memory=False)\n",
        "#df3= pd.read_csv('july_2018_sensor_data_archive.csv', low_memory=False)"
      ]
    },
    {
      "cell_type": "code",
      "execution_count": null,
      "id": "4e338bb8",
      "metadata": {
        "id": "4e338bb8"
      },
      "outputs": [],
      "source": [
        "df = pd.concat([df1,df2])"
      ]
    },
    {
      "cell_type": "code",
      "execution_count": null,
      "id": "3286689f",
      "metadata": {
        "id": "3286689f",
        "outputId": "c6fe4c8e-bc78-42b4-8638-89270e09eb00"
      },
      "outputs": [
        {
          "data": {
            "text/html": [
              "<div>\n",
              "<style scoped>\n",
              "    .dataframe tbody tr th:only-of-type {\n",
              "        vertical-align: middle;\n",
              "    }\n",
              "\n",
              "    .dataframe tbody tr th {\n",
              "        vertical-align: top;\n",
              "    }\n",
              "\n",
              "    .dataframe thead th {\n",
              "        text-align: right;\n",
              "    }\n",
              "</style>\n",
              "<table border=\"1\" class=\"dataframe\">\n",
              "  <thead>\n",
              "    <tr style=\"text-align: right;\">\n",
              "      <th></th>\n",
              "      <th>sensor_id</th>\n",
              "      <th>sensor_type</th>\n",
              "      <th>location</th>\n",
              "      <th>lat</th>\n",
              "      <th>lon</th>\n",
              "      <th>timestamp</th>\n",
              "      <th>value_type</th>\n",
              "      <th>value</th>\n",
              "    </tr>\n",
              "  </thead>\n",
              "  <tbody>\n",
              "    <tr>\n",
              "      <th>0</th>\n",
              "      <td>29</td>\n",
              "      <td>SDS011</td>\n",
              "      <td>22</td>\n",
              "      <td>-6.902</td>\n",
              "      <td>39.267</td>\n",
              "      <td>2018-08-01T05:16:30.336309+00:00</td>\n",
              "      <td>P2</td>\n",
              "      <td>36.27</td>\n",
              "    </tr>\n",
              "    <tr>\n",
              "      <th>1</th>\n",
              "      <td>29</td>\n",
              "      <td>SDS011</td>\n",
              "      <td>22</td>\n",
              "      <td>-6.902</td>\n",
              "      <td>39.267</td>\n",
              "      <td>2018-08-01T05:16:30.336309+00:00</td>\n",
              "      <td>P1</td>\n",
              "      <td>97.27</td>\n",
              "    </tr>\n",
              "    <tr>\n",
              "      <th>2</th>\n",
              "      <td>29</td>\n",
              "      <td>SDS011</td>\n",
              "      <td>22</td>\n",
              "      <td>-6.902</td>\n",
              "      <td>39.267</td>\n",
              "      <td>2018-08-01T05:19:35.336800+00:00</td>\n",
              "      <td>P1</td>\n",
              "      <td>103.57</td>\n",
              "    </tr>\n",
              "    <tr>\n",
              "      <th>3</th>\n",
              "      <td>29</td>\n",
              "      <td>SDS011</td>\n",
              "      <td>22</td>\n",
              "      <td>-6.902</td>\n",
              "      <td>39.267</td>\n",
              "      <td>2018-08-01T05:19:35.336800+00:00</td>\n",
              "      <td>P2</td>\n",
              "      <td>36.37</td>\n",
              "    </tr>\n",
              "    <tr>\n",
              "      <th>4</th>\n",
              "      <td>29</td>\n",
              "      <td>SDS011</td>\n",
              "      <td>22</td>\n",
              "      <td>-6.902</td>\n",
              "      <td>39.267</td>\n",
              "      <td>2018-08-01T05:22:37.380210+00:00</td>\n",
              "      <td>P2</td>\n",
              "      <td>47.57</td>\n",
              "    </tr>\n",
              "  </tbody>\n",
              "</table>\n",
              "</div>"
            ],
            "text/plain": [
              "   sensor_id sensor_type  location    lat     lon  \\\n",
              "0         29      SDS011        22 -6.902  39.267   \n",
              "1         29      SDS011        22 -6.902  39.267   \n",
              "2         29      SDS011        22 -6.902  39.267   \n",
              "3         29      SDS011        22 -6.902  39.267   \n",
              "4         29      SDS011        22 -6.902  39.267   \n",
              "\n",
              "                          timestamp value_type   value  \n",
              "0  2018-08-01T05:16:30.336309+00:00         P2   36.27  \n",
              "1  2018-08-01T05:16:30.336309+00:00         P1   97.27  \n",
              "2  2018-08-01T05:19:35.336800+00:00         P1  103.57  \n",
              "3  2018-08-01T05:19:35.336800+00:00         P2   36.37  \n",
              "4  2018-08-01T05:22:37.380210+00:00         P2   47.57  "
            ]
          },
          "execution_count": 4,
          "metadata": {},
          "output_type": "execute_result"
        }
      ],
      "source": [
        "df.head()"
      ]
    },
    {
      "cell_type": "code",
      "execution_count": null,
      "id": "229b9efe",
      "metadata": {
        "scrolled": true,
        "id": "229b9efe",
        "outputId": "fbe716f1-29d4-47f5-c976-ffa5b5cf1c64"
      },
      "outputs": [
        {
          "name": "stdout",
          "output_type": "stream",
          "text": [
            "<class 'pandas.core.frame.DataFrame'>\n",
            "Int64Index: 346502 entries, 0 to 226929\n",
            "Data columns (total 8 columns):\n",
            " #   Column       Non-Null Count   Dtype  \n",
            "---  ------       --------------   -----  \n",
            " 0   sensor_id    346502 non-null  int64  \n",
            " 1   sensor_type  346502 non-null  object \n",
            " 2   location     346502 non-null  int64  \n",
            " 3   lat          346502 non-null  float64\n",
            " 4   lon          346502 non-null  float64\n",
            " 5   timestamp    346502 non-null  object \n",
            " 6   value_type   346502 non-null  object \n",
            " 7   value        346502 non-null  object \n",
            "dtypes: float64(2), int64(2), object(4)\n",
            "memory usage: 23.8+ MB\n"
          ]
        }
      ],
      "source": [
        "df.info()"
      ]
    },
    {
      "cell_type": "markdown",
      "id": "d96cb05b",
      "metadata": {
        "id": "d96cb05b"
      },
      "source": [
        "## Data Wrangling"
      ]
    },
    {
      "cell_type": "code",
      "execution_count": null,
      "id": "159d0853",
      "metadata": {
        "id": "159d0853"
      },
      "outputs": [],
      "source": [
        "def wrangle(df):\n",
        "    \n",
        "    #mask P2 readings\n",
        "    mask_p2 = df['value_type'] == 'P2'\n",
        "    \n",
        "    #mask location\n",
        "    mask_loc = df['location'] == 11\n",
        "    \n",
        "    df = df[mask_p2 & mask_loc].copy()\n",
        "    \n",
        "    #drop columns\n",
        "    df.drop(columns = ['sensor_id', 'sensor_type', 'location','lat','lon','value_type'], inplace=True)\n",
        "    \n",
        "    #change timestamp datatype to datetime\n",
        "    df['timestamp'] = pd.to_datetime(df['timestamp'])\n",
        "    \n",
        "    #set timestamp as index\n",
        "    df = df.set_index('timestamp')\n",
        "    \n",
        "    #set timezone\n",
        "    df.index = df.index.tz_convert('Africa/Dar_es_Salaam')\n",
        "    \n",
        "    #convert value datatype to float\n",
        "    df['value'] = df['value'].astype(float)\n",
        "    \n",
        "    #resample dataframe\n",
        "    y =df['value'].resample('1H').mean().fillna(method = 'ffill')\n",
        "    \n",
        "    return y\n",
        "    "
      ]
    },
    {
      "cell_type": "markdown",
      "id": "c763fb67",
      "metadata": {
        "id": "c763fb67"
      },
      "source": [
        "When dealing with time series data it is usually more appropirate to use a series than a dataframe. Hence why the data is left in series form"
      ]
    },
    {
      "cell_type": "code",
      "execution_count": null,
      "id": "9c7c4c43",
      "metadata": {
        "scrolled": false,
        "id": "9c7c4c43"
      },
      "outputs": [],
      "source": [
        "data = wrangle(df)"
      ]
    },
    {
      "cell_type": "code",
      "execution_count": null,
      "id": "90ec6e83",
      "metadata": {
        "scrolled": true,
        "id": "90ec6e83",
        "outputId": "27de6227-febe-43d6-e5ab-32e50c8d3708"
      },
      "outputs": [
        {
          "data": {
            "text/plain": [
              "timestamp\n",
              "2018-08-03 19:00:00+03:00    7.049000\n",
              "2018-08-03 20:00:00+03:00    6.450417\n",
              "2018-08-03 21:00:00+03:00    6.443750\n",
              "2018-08-03 22:00:00+03:00    6.398333\n",
              "2018-08-03 23:00:00+03:00    7.216250\n",
              "Freq: H, Name: value, dtype: float64"
            ]
          },
          "execution_count": 8,
          "metadata": {},
          "output_type": "execute_result"
        }
      ],
      "source": [
        "data.head()"
      ]
    },
    {
      "cell_type": "markdown",
      "id": "5d9b263b",
      "metadata": {
        "id": "5d9b263b"
      },
      "source": [
        "## Data Exploration"
      ]
    },
    {
      "cell_type": "code",
      "execution_count": null,
      "id": "a94f42d2",
      "metadata": {
        "id": "a94f42d2",
        "outputId": "4e1c8df5-b6ce-44b5-c4f6-890035ada87e"
      },
      "outputs": [
        {
          "data": {
            "text/plain": [
              "Text(0.5, 1.0, 'Dar es Salaam PM2.5 Levels')"
            ]
          },
          "execution_count": 10,
          "metadata": {},
          "output_type": "execute_result"
        },
        {
          "data": {
            "image/png": "[encoded data removed]",
            "text/plain": [
              "<Figure size 1080x432 with 1 Axes>"
            ]
          },
          "metadata": {
            "needs_background": "light"
          },
          "output_type": "display_data"
        }
      ],
      "source": [
        "fig, ax = plt.subplots(figsize=(15, 6))\n",
        "data.plot(ax=ax)\n",
        "plt.xlabel('Date')\n",
        "plt.ylabel('PM2.5 Level')\n",
        "plt.title('Dar es Salaam PM2.5 Levels')"
      ]
    },
    {
      "cell_type": "code",
      "execution_count": null,
      "id": "c8bff337",
      "metadata": {
        "id": "c8bff337",
        "outputId": "e74f52cf-1090-45c2-9263-07e2940fa9c4"
      },
      "outputs": [
        {
          "data": {
            "text/plain": [
              "Text(0.5, 1.0, '7-Day Rolling Average of PM 2.5 levels (Dar-es-Salaam)')"
            ]
          },
          "execution_count": 12,
          "metadata": {},
          "output_type": "execute_result"
        },
        {
          "data": {
            "image/png": "[encoded data removed]",
            "text/plain": [
              "<Figure size 1080x432 with 1 Axes>"
            ]
          },
          "metadata": {
            "needs_background": "light"
          },
          "output_type": "display_data"
        }
      ],
      "source": [
        "fig, ax = plt.subplots(figsize=(15, 6))\n",
        "data.rolling('168H').mean().plot(ax=ax)\n",
        "plt.xlabel('Date')\n",
        "plt.ylabel('PM2.5 Label')\n",
        "plt.title('7-Day Rolling Average of PM 2.5 levels (Dar-es-Salaam)')"
      ]
    },
    {
      "cell_type": "markdown",
      "id": "f71e29e0",
      "metadata": {
        "id": "f71e29e0"
      },
      "source": [
        "### Autocorrelation plot<br>\n",
        "Autocorrelation involves taking data from one part of a set and comparing it to another part. An Auto-Correlation Function (ACF) plot is a visual representation of an autocorrelation function."
      ]
    },
    {
      "cell_type": "code",
      "execution_count": null,
      "id": "32cd883f",
      "metadata": {
        "id": "32cd883f",
        "outputId": "366c4b73-c43d-4506-e997-2fc6194626c9"
      },
      "outputs": [
        {
          "data": {
            "image/png": "[encoded data removed]",
            "text/plain": [
              "<Figure size 1080x432 with 1 Axes>"
            ]
          },
          "metadata": {
            "needs_background": "light"
          },
          "output_type": "display_data"
        }
      ],
      "source": [
        "fig, ax = plt.subplots(figsize=(15, 6))\n",
        "plot_acf(data, ax=ax)\n",
        "plt.xlabel('Lag[hours]')\n",
        "plt.ylabel('correlation coefficient')\n",
        "plt.title('Dar es Salaam PM2.5 Readings, ACF');"
      ]
    },
    {
      "cell_type": "markdown",
      "id": "8b9620ed",
      "metadata": {
        "id": "8b9620ed"
      },
      "source": [
        "There is strong predictive power in the first four hours. The predictive power trends downwards with increase in lag. There is however another peak at 24 hour mark, indicating that what happened 24 hours ago has some predictive power on the present .<br>\n",
        "\n",
        "The blue band indicates that anything within it has a very small correlation that it is statistically insignificant, therefore, we are only interested in values outside the band.\n"
      ]
    },
    {
      "cell_type": "code",
      "execution_count": null,
      "id": "6eb9ff3d",
      "metadata": {
        "id": "6eb9ff3d",
        "outputId": "4386d714-f59e-4241-81fd-e242d5384c8a"
      },
      "outputs": [
        {
          "data": {
            "text/plain": [
              "0.8508678264817081"
            ]
          },
          "execution_count": 26,
          "metadata": {},
          "output_type": "execute_result"
        }
      ],
      "source": [
        "#correlation between 1 hour in the past and 2 hours in the past\n",
        "data.shift(1).corr(data.shift(2))"
      ]
    },
    {
      "cell_type": "code",
      "execution_count": null,
      "id": "1b269ee0",
      "metadata": {
        "id": "1b269ee0",
        "outputId": "760d05be-9e79-4fea-c62f-cbf0b8cf6903"
      },
      "outputs": [
        {
          "data": {
            "text/plain": [
              "0.8508686240605957"
            ]
          },
          "execution_count": 27,
          "metadata": {},
          "output_type": "execute_result"
        }
      ],
      "source": [
        "#correlation between 3 hours in the past and 4 hours in the past\n",
        "data.shift(3).corr(data.shift(4))"
      ]
    },
    {
      "cell_type": "markdown",
      "id": "d57df789",
      "metadata": {
        "id": "d57df789"
      },
      "source": [
        "It can be seen that there's a strong correlation between what happened at a point (now) and an hour ago and that the correlation value is infact the same thing at any point in time and an hour before that time. This regarded as an echo.\n",
        "This one hour correlation echoes through to the different lags in the ACF plot. Because of this, we wil not be using this plot to determine how many lags we want for our model.\n",
        "\n",
        "We will use the Partial Auto-Correlation Function(PACF) plot instead. Partial autocorrelation is an autocorrelation that only includes the direct observations. when viewed as fUnction, it is called PACF. The PACF plot will remove that echo and let us know which lags actually have that strong predictive power."
      ]
    },
    {
      "cell_type": "code",
      "execution_count": null,
      "id": "8db80641",
      "metadata": {
        "id": "8db80641",
        "outputId": "798d330e-f672-498c-b371-d1a615642636"
      },
      "outputs": [
        {
          "data": {
            "image/png": "[encoded data removed]",
            "text/plain": [
              "<Figure size 1080x432 with 1 Axes>"
            ]
          },
          "metadata": {
            "needs_background": "light"
          },
          "output_type": "display_data"
        }
      ],
      "source": [
        "fig, ax = plt.subplots(figsize=(15, 6))\n",
        "plot_pacf(data, ax=ax, method='ywm')\n",
        "plt.xlabel('Lag[hours]')\n",
        "plt.ylabel('correlation coefficient')\n",
        "plt.title('Dar es Salaam PM2.5 Readings, PACF');"
      ]
    },
    {
      "cell_type": "markdown",
      "id": "8956afa1",
      "metadata": {
        "id": "8956afa1"
      },
      "source": [
        "When compared to the ACF plot, The predictive power can be seen to be much smaller beyond the 3rd hour mark after we eliminated that 1 hour lag echo. \n",
        "It can be seen that for lags between 4 to 16, we realy don't have that predictive power but there is an uptrend wave of some predictive power after 16 up until 26.<br>\n",
        "Generally beyond lag of 26, there isn't any predictive power left . For our AR model terefore, we therefore won't be considering anything beyond the lag of 26."
      ]
    },
    {
      "cell_type": "markdown",
      "id": "4001cbcc",
      "metadata": {
        "id": "4001cbcc"
      },
      "source": [
        "## Split Data"
      ]
    },
    {
      "cell_type": "code",
      "execution_count": null,
      "id": "dbb10f96",
      "metadata": {
        "id": "dbb10f96",
        "outputId": "cb55e758-b735-4d5d-baaf-ee16878e3102"
      },
      "outputs": [
        {
          "name": "stdout",
          "output_type": "stream",
          "text": [
            "y_train shape:  (1054,)\n",
            "y_test:  (264,)\n"
          ]
        }
      ],
      "source": [
        "cutoff_test = int(len(data) * 0.8)\n",
        "y_train = data.iloc[:cutoff_test]\n",
        "y_test = data.iloc[cutoff_test: ]\n",
        "print('y_train shape: ', y_train.shape)\n",
        "print('y_test: ', y_test.shape)"
      ]
    },
    {
      "cell_type": "markdown",
      "id": "7ec6f582",
      "metadata": {
        "id": "7ec6f582"
      },
      "source": [
        "## Build Model"
      ]
    },
    {
      "cell_type": "markdown",
      "id": "ede6f401",
      "metadata": {
        "id": "ede6f401"
      },
      "source": [
        "### Baseline"
      ]
    },
    {
      "cell_type": "code",
      "execution_count": null,
      "id": "308e2cb0",
      "metadata": {
        "id": "308e2cb0",
        "outputId": "74fb08f1-fb14-4866-f63c-47ae94c3b492"
      },
      "outputs": [
        {
          "name": "stdout",
          "output_type": "stream",
          "text": [
            "Mean P2 Reading: 8.806038846604501\n",
            "Baseline MAE:  4.823471514289725\n"
          ]
        }
      ],
      "source": [
        "y_train_mean  = y_train.mean()\n",
        "y_pred_train = len(y_train) * [y_train_mean]\n",
        "mae_baseline = mean_absolute_error(y_train, y_pred_train )\n",
        "\n",
        "print(\"Mean P2 Reading:\", y_train_mean)\n",
        "print('Baseline MAE: ', mae_baseline)"
      ]
    },
    {
      "cell_type": "markdown",
      "id": "a1280fed",
      "metadata": {
        "id": "a1280fed"
      },
      "source": [
        "### Iterate"
      ]
    },
    {
      "cell_type": "markdown",
      "id": "17f1332b",
      "metadata": {
        "id": "17f1332b"
      },
      "source": [
        "Our lag is our hyperparameter but we don't know  which hyperparameter settings will give the best performance.\n",
        "We therefore employ the use of a for loop to train the Auto Regressive model on using settings for p from 1 to 26."
      ]
    },
    {
      "cell_type": "code",
      "execution_count": null,
      "id": "e1c8bdb9",
      "metadata": {
        "id": "e1c8bdb9",
        "outputId": "645867b7-af93-4e06-e753-94cc19b2ed9e"
      },
      "outputs": [
        {
          "data": {
            "text/plain": [
              "1     2.089359\n",
              "2     1.912345\n",
              "3     1.910336\n",
              "4     1.913019\n",
              "5     1.917022\n",
              "6     1.913669\n",
              "7     1.920432\n",
              "8     1.915731\n",
              "9     1.915618\n",
              "10    1.913367\n",
              "11    1.921482\n",
              "12    1.904339\n",
              "13    1.905839\n",
              "14    1.899858\n",
              "15    1.897705\n",
              "16    1.892297\n",
              "17    1.891608\n",
              "18    1.886722\n",
              "19    1.882469\n",
              "20    1.860969\n",
              "21    1.815351\n",
              "22    1.775656\n",
              "23    1.764706\n",
              "24    1.764111\n",
              "25    1.757972\n",
              "26    1.736496\n",
              "Name: mae, dtype: float64"
            ]
          },
          "execution_count": 43,
          "metadata": {},
          "output_type": "execute_result"
        }
      ],
      "source": [
        "p_params = range(1, 27)\n",
        "maes = []\n",
        "\n",
        "for p in p_params:\n",
        "    \n",
        "    model = AutoReg(y_train, lags=p).fit()\n",
        "    y_pred = model.predict().dropna()\n",
        "    mae = mean_absolute_error(y_train[p:], y_pred)\n",
        "    maes.append(mae)\n",
        "\n",
        "mae_series = pd.Series(maes, name='mae', index = p_params)\n",
        "mae_series"
      ]
    },
    {
      "cell_type": "code",
      "execution_count": null,
      "id": "e9165c52",
      "metadata": {
        "id": "e9165c52",
        "outputId": "51278556-f1b3-4fe3-fdb9-4ac61b1a953a"
      },
      "outputs": [
        {
          "data": {
            "text/plain": [
              "1.7364959132066022"
            ]
          },
          "execution_count": 44,
          "metadata": {},
          "output_type": "execute_result"
        }
      ],
      "source": [
        "mae_series.min()"
      ]
    },
    {
      "cell_type": "code",
      "execution_count": null,
      "id": "5fb03698",
      "metadata": {
        "id": "5fb03698"
      },
      "outputs": [],
      "source": [
        "best_p = 26\n",
        "best_model = AutoReg(y_train, lags=best_p).fit()"
      ]
    },
    {
      "cell_type": "markdown",
      "id": "5c1ca57b",
      "metadata": {
        "id": "5c1ca57b"
      },
      "source": [
        "###  Residuals\n",
        "A residual is the vertical distance hetween each individual data point and the regression line. With linear models, you need to check and see what the residuals are for your model."
      ]
    },
    {
      "cell_type": "code",
      "execution_count": null,
      "id": "ac56bfb0",
      "metadata": {
        "id": "ac56bfb0",
        "outputId": "87b31255-b8db-4c69-99b7-7e6d4b24dc03"
      },
      "outputs": [
        {
          "data": {
            "text/plain": [
              "timestamp\n",
              "2018-08-04 21:00:00+03:00    1.650389\n",
              "2018-08-04 22:00:00+03:00   -0.106428\n",
              "2018-08-04 23:00:00+03:00    1.381167\n",
              "2018-08-05 00:00:00+03:00   -1.676298\n",
              "2018-08-05 01:00:00+03:00    0.094037\n",
              "Freq: H, dtype: float64"
            ]
          },
          "execution_count": 48,
          "metadata": {},
          "output_type": "execute_result"
        }
      ],
      "source": [
        "y_train_resid = best_model.resid\n",
        "y_train_resid.head()"
      ]
    },
    {
      "cell_type": "code",
      "execution_count": null,
      "id": "9be60690",
      "metadata": {
        "id": "9be60690",
        "outputId": "a494128b-05a4-4377-e511-b97b1982827c"
      },
      "outputs": [
        {
          "data": {
            "text/plain": [
              "<AxesSubplot:xlabel='timestamp'>"
            ]
          },
          "execution_count": 52,
          "metadata": {},
          "output_type": "execute_result"
        },
        {
          "data": {
            "image/png": "[encoded data removed]",
            "text/plain": [
              "<Figure size 1080x432 with 1 Axes>"
            ]
          },
          "metadata": {
            "needs_background": "light"
          },
          "output_type": "display_data"
        }
      ],
      "source": [
        "fig,ax = plt.subplots(figsize=(15,6))\n",
        "y_train_resid.plot(ax=ax)"
      ]
    },
    {
      "cell_type": "markdown",
      "id": "084ffd36",
      "metadata": {
        "id": "084ffd36"
      },
      "source": [
        "The plot shows the the difference between our estimate and the true value on the y-axis. As we move up the axis, it shows how much under-estimated the values while the values down the axis are those that were over-estimated.<br>\n",
        " \n",
        "There is no particular trend to these residual time series and it's centred around zero, this is a good indication that there is no trend in the time series data that our model is missing"
      ]
    },
    {
      "cell_type": "markdown",
      "id": "7bb8e614",
      "metadata": {
        "id": "7bb8e614"
      },
      "source": [
        "We need to look at the distribution of these residuals and we want to make sure they are normally distributed"
      ]
    },
    {
      "cell_type": "code",
      "execution_count": null,
      "id": "dd1fd781",
      "metadata": {
        "id": "dd1fd781",
        "outputId": "a8e6fc08-e1c0-4e45-8184-6d5540af6d21"
      },
      "outputs": [
        {
          "data": {
            "text/plain": [
              "Text(0.5, 1.0, 'Best Model, Training Residuals')"
            ]
          },
          "execution_count": 49,
          "metadata": {},
          "output_type": "execute_result"
        },
        {
          "data": {
            "image/png": "[encoded data removed]",
            "text/plain": [
              "<Figure size 432x288 with 1 Axes>"
            ]
          },
          "metadata": {
            "needs_background": "light"
          },
          "output_type": "display_data"
        }
      ],
      "source": [
        "y_train_resid.hist()\n",
        "plt.xlabel('Residuals')\n",
        "plt.ylabel('Frequency')\n",
        "plt.title('Best Model, Training Residuals')"
      ]
    },
    {
      "cell_type": "code",
      "execution_count": null,
      "id": "10a79d3a",
      "metadata": {
        "id": "10a79d3a",
        "outputId": "a9e887c7-0d6a-4c2c-9b50-45e99ffe52dc"
      },
      "outputs": [
        {
          "data": {
            "image/png": "[encoded data removed]",
            "text/plain": [
              "<Figure size 1080x432 with 1 Axes>"
            ]
          },
          "metadata": {
            "needs_background": "light"
          },
          "output_type": "display_data"
        }
      ],
      "source": [
        "fig,ax = plt.subplots(figsize=(15,6))\n",
        "plot_acf(y_train_resid, ax=ax);"
      ]
    },
    {
      "cell_type": "markdown",
      "id": "bdd0a07a",
      "metadata": {
        "id": "bdd0a07a"
      },
      "source": [
        "We can see that there is no way to predict a residual at a given time step from a previous time step. This indicates that our model has pulled all the predictive power out of the data during training. We then move on to evaluate our model using the test data"
      ]
    },
    {
      "cell_type": "markdown",
      "id": "0acda3c2",
      "metadata": {
        "id": "0acda3c2"
      },
      "source": [
        "### Evaluate"
      ]
    },
    {
      "cell_type": "markdown",
      "id": "a43bb6e5",
      "metadata": {
        "id": "a43bb6e5"
      },
      "source": [
        "The evaluation is carried out using walk-forward validation"
      ]
    },
    {
      "cell_type": "code",
      "execution_count": null,
      "id": "23898602",
      "metadata": {
        "id": "23898602",
        "outputId": "8dc26e59-3a2f-4459-d049-d785f3944bba"
      },
      "outputs": [
        {
          "name": "stderr",
          "output_type": "stream",
          "text": [
            "C:\\Users\\ADIL\\Anaconda32\\envs\\my_environment\\lib\\site-packages\\ipykernel_launcher.py:1: DeprecationWarning: The default dtype for empty Series will be 'object' instead of 'float64' in a future version. Specify a dtype explicitly to silence this warning.\n",
            "  \"\"\"Entry point for launching an IPython kernel.\n"
          ]
        },
        {
          "data": {
            "text/plain": [
              "timestamp\n",
              "2018-09-16 17:00:00+03:00     3.286240\n",
              "2018-09-16 18:00:00+03:00     5.144785\n",
              "2018-09-16 19:00:00+03:00    11.806078\n",
              "2018-09-16 20:00:00+03:00     6.989316\n",
              "2018-09-16 21:00:00+03:00     8.483240\n",
              "Freq: H, Name: prediction, dtype: float64"
            ]
          },
          "execution_count": 62,
          "metadata": {},
          "output_type": "execute_result"
        }
      ],
      "source": [
        "y_pred_wfv = pd.Series()\n",
        "history = y_train.copy()\n",
        "for i in range(len(y_test)):\n",
        "    model = AutoReg(history, lags=26).fit()\n",
        "    next_pred = model.forecast()\n",
        "    y_pred_wfv = y_pred_wfv.append(next_pred)\n",
        "    history = history.append(y_test[next_pred.index])\n",
        "    pass\n",
        "y_pred_wfv.name = \"prediction\"\n",
        "y_pred_wfv.index.name = \"timestamp\"\n",
        "y_pred_wfv.head()"
      ]
    },
    {
      "cell_type": "code",
      "execution_count": null,
      "id": "b119a0ec",
      "metadata": {
        "id": "b119a0ec",
        "outputId": "07676cfc-8399-4013-a180-b9db6dcbde83"
      },
      "outputs": [
        {
          "name": "stdout",
          "output_type": "stream",
          "text": [
            "Test MAE:  1.2232486449687388\n"
          ]
        }
      ],
      "source": [
        "test_mae = mean_absolute_error(y_test, y_pred_wfv)\n",
        "print('Test MAE: ', test_mae)"
      ]
    },
    {
      "cell_type": "markdown",
      "id": "56349beb",
      "metadata": {
        "id": "56349beb"
      },
      "source": [
        "## Results"
      ]
    },
    {
      "cell_type": "code",
      "execution_count": null,
      "id": "26dd4727",
      "metadata": {
        "id": "26dd4727",
        "outputId": "f28cadec-3b0c-4460-ecd6-b32f652a5170"
      },
      "outputs": [
        {
          "data": {
            "application/vnd.plotly.v1+json": {
              "config": {
                "plotlyServerURL": "https://plot.ly"
              },
              "data": [
                {
                  "hovertemplate": "variable=y_test<br>timestamp=%{x}<br>value=%{y}<extra></extra>",
                  "legendgroup": "y_test",
                  "line": {
                    "color": "#636efa",
                    "dash": "solid"
                  },
                  "marker": {
                    "symbol": "circle"
                  },
                  "mode": "lines",
                  "name": "y_test",
                  "orientation": "v",
                  "showlegend": true,
                  "type": "scatter",
                  "x": [
                    "2018-09-16T17:00:00+03:00",
                    "2018-09-16T18:00:00+03:00",
                    "2018-09-16T19:00:00+03:00",
                    "2018-09-16T20:00:00+03:00",
                    "2018-09-16T21:00:00+03:00",
                    "2018-09-16T22:00:00+03:00",
                    "2018-09-16T23:00:00+03:00",
                    "2018-09-17T00:00:00+03:00",
                    "2018-09-17T01:00:00+03:00",
                    "2018-09-17T02:00:00+03:00",
                    "2018-09-17T03:00:00+03:00",
                    "2018-09-17T04:00:00+03:00",
                    "2018-09-17T05:00:00+03:00",
                    "2018-09-17T06:00:00+03:00",
                    "2018-09-17T07:00:00+03:00",
                    "2018-09-17T08:00:00+03:00",
                    "2018-09-17T09:00:00+03:00",
                    "2018-09-17T10:00:00+03:00",
                    "2018-09-17T11:00:00+03:00",
                    "2018-09-17T12:00:00+03:00",
                    "2018-09-17T13:00:00+03:00",
                    "2018-09-17T14:00:00+03:00",
                    "2018-09-17T15:00:00+03:00",
                    "2018-09-17T16:00:00+03:00",
                    "2018-09-17T17:00:00+03:00",
                    "2018-09-17T18:00:00+03:00",
                    "2018-09-17T19:00:00+03:00",
                    "2018-09-17T20:00:00+03:00",
                    "2018-09-17T21:00:00+03:00",
                    "2018-09-17T22:00:00+03:00",
                    "2018-09-17T23:00:00+03:00",
                    "2018-09-18T00:00:00+03:00",
                    "2018-09-18T01:00:00+03:00",
                    "2018-09-18T02:00:00+03:00",
                    "2018-09-18T03:00:00+03:00",
                    "2018-09-18T04:00:00+03:00",
                    "2018-09-18T05:00:00+03:00",
                    "2018-09-18T06:00:00+03:00",
                    "2018-09-18T07:00:00+03:00",
                    "2018-09-18T08:00:00+03:00",
                    "2018-09-18T09:00:00+03:00",
                    "2018-09-18T10:00:00+03:00",
                    "2018-09-18T11:00:00+03:00",
                    "2018-09-18T12:00:00+03:00",
                    "2018-09-18T13:00:00+03:00",
                    "2018-09-18T14:00:00+03:00",
                    "2018-09-18T15:00:00+03:00",
                    "2018-09-18T16:00:00+03:00",
                    "2018-09-18T17:00:00+03:00",
                    "2018-09-18T18:00:00+03:00",
                    "2018-09-18T19:00:00+03:00",
                    "2018-09-18T20:00:00+03:00",
                    "2018-09-18T21:00:00+03:00",
                    "2018-09-18T22:00:00+03:00",
                    "2018-09-18T23:00:00+03:00",
                    "2018-09-19T00:00:00+03:00",
                    "2018-09-19T01:00:00+03:00",
                    "2018-09-19T02:00:00+03:00",
                    "2018-09-19T03:00:00+03:00",
                    "2018-09-19T04:00:00+03:00",
                    "2018-09-19T05:00:00+03:00",
                    "2018-09-19T06:00:00+03:00",
                    "2018-09-19T07:00:00+03:00",
                    "2018-09-19T08:00:00+03:00",
                    "2018-09-19T09:00:00+03:00",
                    "2018-09-19T10:00:00+03:00",
                    "2018-09-19T11:00:00+03:00",
                    "2018-09-19T12:00:00+03:00",
                    "2018-09-19T13:00:00+03:00",
                    "2018-09-19T14:00:00+03:00",
                    "2018-09-19T15:00:00+03:00",
                    "2018-09-19T16:00:00+03:00",
                    "2018-09-19T17:00:00+03:00",
                    "2018-09-19T18:00:00+03:00",
                    "2018-09-19T19:00:00+03:00",
                    "2018-09-19T20:00:00+03:00",
                    "2018-09-19T21:00:00+03:00",
                    "2018-09-19T22:00:00+03:00",
                    "2018-09-19T23:00:00+03:00",
                    "2018-09-20T00:00:00+03:00",
                    "2018-09-20T01:00:00+03:00",
                    "2018-09-20T02:00:00+03:00",
                    "2018-09-20T03:00:00+03:00",
                    "2018-09-20T04:00:00+03:00",
                    "2018-09-20T05:00:00+03:00",
                    "2018-09-20T06:00:00+03:00",
                    "2018-09-20T07:00:00+03:00",
                    "2018-09-20T08:00:00+03:00",
                    "2018-09-20T09:00:00+03:00",
                    "2018-09-20T10:00:00+03:00",
                    "2018-09-20T11:00:00+03:00",
                    "2018-09-20T12:00:00+03:00",
                    "2018-09-20T13:00:00+03:00",
                    "2018-09-20T14:00:00+03:00",
                    "2018-09-20T15:00:00+03:00",
                    "2018-09-20T16:00:00+03:00",
                    "2018-09-20T17:00:00+03:00",
                    "2018-09-20T18:00:00+03:00",
                    "2018-09-20T19:00:00+03:00",
                    "2018-09-20T20:00:00+03:00",
                    "2018-09-20T21:00:00+03:00",
                    "2018-09-20T22:00:00+03:00",
                    "2018-09-20T23:00:00+03:00",
                    "2018-09-21T00:00:00+03:00",
                    "2018-09-21T01:00:00+03:00",
                    "2018-09-21T02:00:00+03:00",
                    "2018-09-21T03:00:00+03:00",
                    "2018-09-21T04:00:00+03:00",
                    "2018-09-21T05:00:00+03:00",
                    "2018-09-21T06:00:00+03:00",
                    "2018-09-21T07:00:00+03:00",
                    "2018-09-21T08:00:00+03:00",
                    "2018-09-21T09:00:00+03:00",
                    "2018-09-21T10:00:00+03:00",
                    "2018-09-21T11:00:00+03:00",
                    "2018-09-21T12:00:00+03:00",
                    "2018-09-21T13:00:00+03:00",
                    "2018-09-21T14:00:00+03:00",
                    "2018-09-21T15:00:00+03:00",
                    "2018-09-21T16:00:00+03:00",
                    "2018-09-21T17:00:00+03:00",
                    "2018-09-21T18:00:00+03:00",
                    "2018-09-21T19:00:00+03:00",
                    "2018-09-21T20:00:00+03:00",
                    "2018-09-21T21:00:00+03:00",
                    "2018-09-21T22:00:00+03:00",
                    "2018-09-21T23:00:00+03:00",
                    "2018-09-22T00:00:00+03:00",
                    "2018-09-22T01:00:00+03:00",
                    "2018-09-22T02:00:00+03:00",
                    "2018-09-22T03:00:00+03:00",
                    "2018-09-22T04:00:00+03:00",
                    "2018-09-22T05:00:00+03:00",
                    "2018-09-22T06:00:00+03:00",
                    "2018-09-22T07:00:00+03:00",
                    "2018-09-22T08:00:00+03:00",
                    "2018-09-22T09:00:00+03:00",
                    "2018-09-22T10:00:00+03:00",
                    "2018-09-22T11:00:00+03:00",
                    "2018-09-22T12:00:00+03:00",
                    "2018-09-22T13:00:00+03:00",
                    "2018-09-22T14:00:00+03:00",
                    "2018-09-22T15:00:00+03:00",
                    "2018-09-22T16:00:00+03:00",
                    "2018-09-22T17:00:00+03:00",
                    "2018-09-22T18:00:00+03:00",
                    "2018-09-22T19:00:00+03:00",
                    "2018-09-22T20:00:00+03:00",
                    "2018-09-22T21:00:00+03:00",
                    "2018-09-22T22:00:00+03:00",
                    "2018-09-22T23:00:00+03:00",
                    "2018-09-23T00:00:00+03:00",
                    "2018-09-23T01:00:00+03:00",
                    "2018-09-23T02:00:00+03:00",
                    "2018-09-23T03:00:00+03:00",
                    "2018-09-23T04:00:00+03:00",
                    "2018-09-23T05:00:00+03:00",
                    "2018-09-23T06:00:00+03:00",
                    "2018-09-23T07:00:00+03:00",
                    "2018-09-23T08:00:00+03:00",
                    "2018-09-23T09:00:00+03:00",
                    "2018-09-23T10:00:00+03:00",
                    "2018-09-23T11:00:00+03:00",
                    "2018-09-23T12:00:00+03:00",
                    "2018-09-23T13:00:00+03:00",
                    "2018-09-23T14:00:00+03:00",
                    "2018-09-23T15:00:00+03:00",
                    "2018-09-23T16:00:00+03:00",
                    "2018-09-23T17:00:00+03:00",
                    "2018-09-23T18:00:00+03:00",
                    "2018-09-23T19:00:00+03:00",
                    "2018-09-23T20:00:00+03:00",
                    "2018-09-23T21:00:00+03:00",
                    "2018-09-23T22:00:00+03:00",
                    "2018-09-23T23:00:00+03:00",
                    "2018-09-24T00:00:00+03:00",
                    "2018-09-24T01:00:00+03:00",
                    "2018-09-24T02:00:00+03:00",
                    "2018-09-24T03:00:00+03:00",
                    "2018-09-24T04:00:00+03:00",
                    "2018-09-24T05:00:00+03:00",
                    "2018-09-24T06:00:00+03:00",
                    "2018-09-24T07:00:00+03:00",
                    "2018-09-24T08:00:00+03:00",
                    "2018-09-24T09:00:00+03:00",
                    "2018-09-24T10:00:00+03:00",
                    "2018-09-24T11:00:00+03:00",
                    "2018-09-24T12:00:00+03:00",
                    "2018-09-24T13:00:00+03:00",
                    "2018-09-24T14:00:00+03:00",
                    "2018-09-24T15:00:00+03:00",
                    "2018-09-24T16:00:00+03:00",
                    "2018-09-24T17:00:00+03:00",
                    "2018-09-24T18:00:00+03:00",
                    "2018-09-24T19:00:00+03:00",
                    "2018-09-24T20:00:00+03:00",
                    "2018-09-24T21:00:00+03:00",
                    "2018-09-24T22:00:00+03:00",
                    "2018-09-24T23:00:00+03:00",
                    "2018-09-25T00:00:00+03:00",
                    "2018-09-25T01:00:00+03:00",
                    "2018-09-25T02:00:00+03:00",
                    "2018-09-25T03:00:00+03:00",
                    "2018-09-25T04:00:00+03:00",
                    "2018-09-25T05:00:00+03:00",
                    "2018-09-25T06:00:00+03:00",
                    "2018-09-25T07:00:00+03:00",
                    "2018-09-25T08:00:00+03:00",
                    "2018-09-25T09:00:00+03:00",
                    "2018-09-25T10:00:00+03:00",
                    "2018-09-25T11:00:00+03:00",
                    "2018-09-25T12:00:00+03:00",
                    "2018-09-25T13:00:00+03:00",
                    "2018-09-25T14:00:00+03:00",
                    "2018-09-25T15:00:00+03:00",
                    "2018-09-25T16:00:00+03:00",
                    "2018-09-25T17:00:00+03:00",
                    "2018-09-25T18:00:00+03:00",
                    "2018-09-25T19:00:00+03:00",
                    "2018-09-25T20:00:00+03:00",
                    "2018-09-25T21:00:00+03:00",
                    "2018-09-25T22:00:00+03:00",
                    "2018-09-25T23:00:00+03:00",
                    "2018-09-26T00:00:00+03:00",
                    "2018-09-26T01:00:00+03:00",
                    "2018-09-26T02:00:00+03:00",
                    "2018-09-26T03:00:00+03:00",
                    "2018-09-26T04:00:00+03:00",
                    "2018-09-26T05:00:00+03:00",
                    "2018-09-26T06:00:00+03:00",
                    "2018-09-26T07:00:00+03:00",
                    "2018-09-26T08:00:00+03:00",
                    "2018-09-26T09:00:00+03:00",
                    "2018-09-26T10:00:00+03:00",
                    "2018-09-26T11:00:00+03:00",
                    "2018-09-26T12:00:00+03:00",
                    "2018-09-26T13:00:00+03:00",
                    "2018-09-26T14:00:00+03:00",
                    "2018-09-26T15:00:00+03:00",
                    "2018-09-26T16:00:00+03:00",
                    "2018-09-26T17:00:00+03:00",
                    "2018-09-26T18:00:00+03:00",
                    "2018-09-26T19:00:00+03:00",
                    "2018-09-26T20:00:00+03:00",
                    "2018-09-26T21:00:00+03:00",
                    "2018-09-26T22:00:00+03:00",
                    "2018-09-26T23:00:00+03:00",
                    "2018-09-27T00:00:00+03:00",
                    "2018-09-27T01:00:00+03:00",
                    "2018-09-27T02:00:00+03:00",
                    "2018-09-27T03:00:00+03:00",
                    "2018-09-27T04:00:00+03:00",
                    "2018-09-27T05:00:00+03:00",
                    "2018-09-27T06:00:00+03:00",
                    "2018-09-27T07:00:00+03:00",
                    "2018-09-27T08:00:00+03:00",
                    "2018-09-27T09:00:00+03:00",
                    "2018-09-27T10:00:00+03:00",
                    "2018-09-27T11:00:00+03:00",
                    "2018-09-27T12:00:00+03:00",
                    "2018-09-27T13:00:00+03:00",
                    "2018-09-27T14:00:00+03:00",
                    "2018-09-27T15:00:00+03:00",
                    "2018-09-27T16:00:00+03:00"
                  ],
                  "xaxis": "x",
                  "y": [
                    3.4608333333333334,
                    10.300833333333333,
                    7.720624999999999,
                    8.022499999999999,
                    7.550208333333334,
                    6.259574468085106,
                    5.052708333333333,
                    4.471489361702128,
                    4.862708333333333,
                    4.841666666666667,
                    4.954791666666667,
                    12.889791666666667,
                    27.486666666666665,
                    31.665208333333336,
                    36.53104166666667,
                    18.370208333333334,
                    9.963958333333332,
                    7.679583333333333,
                    2.6472916666666664,
                    2.5279166666666666,
                    2.6608695652173915,
                    2.6733333333333333,
                    2.5812500000000003,
                    2.618125,
                    2.8206382978723403,
                    5.224166666666666,
                    8.431666666666667,
                    7.305416666666667,
                    5.77875,
                    4.602708333333333,
                    3.97125,
                    3.5925,
                    3.3559574468085103,
                    4.0424999999999995,
                    5.891276595744681,
                    10.512708333333334,
                    17.745833333333334,
                    19.918541666666666,
                    19.87333333333333,
                    16.443125,
                    10.266250000000001,
                    6.975625,
                    5.019583333333333,
                    4.274375,
                    4.922083333333333,
                    5.832826086956522,
                    5.9245833333333335,
                    4.864468085106383,
                    5.298958333333333,
                    5.716666666666666,
                    6.888125,
                    6.992291666666667,
                    6.7375,
                    6.589166666666666,
                    5.625208333333333,
                    5.075625,
                    6.361041666666666,
                    16.077083333333334,
                    12.87375,
                    10.34468085106383,
                    10.637500000000001,
                    13.129166666666668,
                    14.442340425531913,
                    17.136666666666667,
                    12.491666666666667,
                    9.881041666666667,
                    8.843333333333334,
                    6.0945833333333335,
                    3.4439583333333332,
                    2.8989583333333333,
                    1.852608695652174,
                    1.4193749999999998,
                    1.6175,
                    2.50875,
                    3.1981249999999997,
                    4.789591836734694,
                    4.783125,
                    4.840208333333333,
                    4.037708333333334,
                    3.8072916666666665,
                    3.436666666666667,
                    2.970625,
                    2.625,
                    2.2514583333333333,
                    2.858125,
                    3.45875,
                    5.073125,
                    6.6691666666666665,
                    6.039375,
                    4.13936170212766,
                    3.218541666666667,
                    3.284893617021276,
                    2.8195833333333336,
                    3.2112499999999997,
                    2.8035416666666664,
                    2.8939583333333334,
                    3.03375,
                    3.3441666666666667,
                    4.851875000000001,
                    5.233333333333333,
                    5.123191489361702,
                    5.6883333333333335,
                    5.015,
                    4.801666666666667,
                    4.770833333333333,
                    5.1656249999999995,
                    7.215833333333333,
                    6.155744680851064,
                    5.537916666666667,
                    6.0057446808510635,
                    5.506666666666667,
                    4.745,
                    4.371041666666667,
                    5.487708333333334,
                    4.731458333333333,
                    3.8542553191489364,
                    3.3738297872340426,
                    3.015416666666667,
                    3.0908333333333338,
                    3.8699999999999997,
                    4.383125,
                    4.3275,
                    5.769375,
                    6.442083333333334,
                    6.678541666666667,
                    5.609791666666666,
                    4.98625,
                    5.10595744680851,
                    5.748333333333334,
                    5.592291666666667,
                    6.425,
                    10.328125,
                    12.161875,
                    10.342127659574468,
                    12.067916666666667,
                    13.020625,
                    8.972291666666667,
                    7.219148936170213,
                    6.447083333333333,
                    5.132708333333333,
                    4.9731250000000005,
                    4.397291666666667,
                    4.2179166666666665,
                    4.006170212765957,
                    3.91,
                    3.8545833333333337,
                    6.764583333333333,
                    9.088333333333333,
                    7.776666666666666,
                    5.84875,
                    5.2527083333333335,
                    4.458541666666666,
                    3.42625,
                    3.0102083333333334,
                    2.82875,
                    2.6833333333333336,
                    3.0522916666666666,
                    5.295,
                    9.761875,
                    8.360425531914894,
                    5.482291666666666,
                    4.037708333333334,
                    3.4675,
                    3.37125,
                    3.3691666666666666,
                    3.713125,
                    4.4125000000000005,
                    3.949583333333333,
                    3.8775,
                    4.237916666666666,
                    4.7406250000000005,
                    5.209583333333334,
                    5.0314893617021275,
                    4.755416666666666,
                    4.206666666666667,
                    3.7089583333333334,
                    3.513541666666667,
                    3.4031249999999997,
                    3.451458333333333,
                    4.624791666666667,
                    11.371875000000001,
                    17.716808510638298,
                    17.115957446808512,
                    10.620909090909091,
                    7.216956521739131,
                    6.09,
                    3.4130434782608696,
                    2.69,
                    3.1626086956521737,
                    3.1975,
                    3.2969565217391303,
                    3.9369565217391305,
                    4.247391304347826,
                    4.025454545454545,
                    5.479565217391304,
                    5.936521739130434,
                    5.476521739130434,
                    4.79375,
                    4.389130434782609,
                    4.130434782608695,
                    4.391739130434783,
                    5.233478260869566,
                    5.86,
                    11.839130434782609,
                    18.348333333333333,
                    13.724347826086957,
                    12.905652173913042,
                    11.024347826086956,
                    7.570869565217391,
                    4.395652173913043,
                    3.6795652173913043,
                    3.111739130434782,
                    3.467391304347826,
                    3.308695652173913,
                    3.680434782608696,
                    3.3686956521739133,
                    5.68625,
                    3.7404347826086957,
                    4.543913043478261,
                    4.575217391304348,
                    4.398695652173913,
                    4.291739130434783,
                    4.52875,
                    4.927391304347826,
                    5.274347826086957,
                    6.288695652173913,
                    7.935,
                    8.68125,
                    10.509166666666667,
                    11.964166666666666,
                    12.185,
                    13.694583333333334,
                    10.848333333333334,
                    4.406666666666667,
                    3.1062499999999997,
                    2.9141666666666666,
                    2.9126086956521737,
                    3.1779166666666665,
                    3.8249999999999997,
                    3.8991666666666664,
                    5.027083333333334,
                    5.888333333333333,
                    7.520833333333333,
                    8.116249999999999,
                    8.32625,
                    8.074166666666667,
                    8.237916666666667,
                    8.922083333333333,
                    9.7225,
                    10.638333333333334,
                    12.728333333333333,
                    13.20875,
                    14.21125,
                    14.571666666666667,
                    14.870833333333332,
                    13.111666666666666,
                    10.99,
                    10.157083333333334,
                    9.784166666666666,
                    8.421249999999999,
                    8.744166666666667,
                    8.867916666666666,
                    9.43,
                    10.237894736842106
                  ],
                  "yaxis": "y"
                },
                {
                  "hovertemplate": "variable=y_pred_wfv<br>timestamp=%{x}<br>value=%{y}<extra></extra>",
                  "legendgroup": "y_pred_wfv",
                  "line": {
                    "color": "#EF553B",
                    "dash": "solid"
                  },
                  "marker": {
                    "symbol": "circle"
                  },
                  "mode": "lines",
                  "name": "y_pred_wfv",
                  "orientation": "v",
                  "showlegend": true,
                  "type": "scatter",
                  "x": [
                    "2018-09-16T17:00:00+03:00",
                    "2018-09-16T18:00:00+03:00",
                    "2018-09-16T19:00:00+03:00",
                    "2018-09-16T20:00:00+03:00",
                    "2018-09-16T21:00:00+03:00",
                    "2018-09-16T22:00:00+03:00",
                    "2018-09-16T23:00:00+03:00",
                    "2018-09-17T00:00:00+03:00",
                    "2018-09-17T01:00:00+03:00",
                    "2018-09-17T02:00:00+03:00",
                    "2018-09-17T03:00:00+03:00",
                    "2018-09-17T04:00:00+03:00",
                    "2018-09-17T05:00:00+03:00",
                    "2018-09-17T06:00:00+03:00",
                    "2018-09-17T07:00:00+03:00",
                    "2018-09-17T08:00:00+03:00",
                    "2018-09-17T09:00:00+03:00",
                    "2018-09-17T10:00:00+03:00",
                    "2018-09-17T11:00:00+03:00",
                    "2018-09-17T12:00:00+03:00",
                    "2018-09-17T13:00:00+03:00",
                    "2018-09-17T14:00:00+03:00",
                    "2018-09-17T15:00:00+03:00",
                    "2018-09-17T16:00:00+03:00",
                    "2018-09-17T17:00:00+03:00",
                    "2018-09-17T18:00:00+03:00",
                    "2018-09-17T19:00:00+03:00",
                    "2018-09-17T20:00:00+03:00",
                    "2018-09-17T21:00:00+03:00",
                    "2018-09-17T22:00:00+03:00",
                    "2018-09-17T23:00:00+03:00",
                    "2018-09-18T00:00:00+03:00",
                    "2018-09-18T01:00:00+03:00",
                    "2018-09-18T02:00:00+03:00",
                    "2018-09-18T03:00:00+03:00",
                    "2018-09-18T04:00:00+03:00",
                    "2018-09-18T05:00:00+03:00",
                    "2018-09-18T06:00:00+03:00",
                    "2018-09-18T07:00:00+03:00",
                    "2018-09-18T08:00:00+03:00",
                    "2018-09-18T09:00:00+03:00",
                    "2018-09-18T10:00:00+03:00",
                    "2018-09-18T11:00:00+03:00",
                    "2018-09-18T12:00:00+03:00",
                    "2018-09-18T13:00:00+03:00",
                    "2018-09-18T14:00:00+03:00",
                    "2018-09-18T15:00:00+03:00",
                    "2018-09-18T16:00:00+03:00",
                    "2018-09-18T17:00:00+03:00",
                    "2018-09-18T18:00:00+03:00",
                    "2018-09-18T19:00:00+03:00",
                    "2018-09-18T20:00:00+03:00",
                    "2018-09-18T21:00:00+03:00",
                    "2018-09-18T22:00:00+03:00",
                    "2018-09-18T23:00:00+03:00",
                    "2018-09-19T00:00:00+03:00",
                    "2018-09-19T01:00:00+03:00",
                    "2018-09-19T02:00:00+03:00",
                    "2018-09-19T03:00:00+03:00",
                    "2018-09-19T04:00:00+03:00",
                    "2018-09-19T05:00:00+03:00",
                    "2018-09-19T06:00:00+03:00",
                    "2018-09-19T07:00:00+03:00",
                    "2018-09-19T08:00:00+03:00",
                    "2018-09-19T09:00:00+03:00",
                    "2018-09-19T10:00:00+03:00",
                    "2018-09-19T11:00:00+03:00",
                    "2018-09-19T12:00:00+03:00",
                    "2018-09-19T13:00:00+03:00",
                    "2018-09-19T14:00:00+03:00",
                    "2018-09-19T15:00:00+03:00",
                    "2018-09-19T16:00:00+03:00",
                    "2018-09-19T17:00:00+03:00",
                    "2018-09-19T18:00:00+03:00",
                    "2018-09-19T19:00:00+03:00",
                    "2018-09-19T20:00:00+03:00",
                    "2018-09-19T21:00:00+03:00",
                    "2018-09-19T22:00:00+03:00",
                    "2018-09-19T23:00:00+03:00",
                    "2018-09-20T00:00:00+03:00",
                    "2018-09-20T01:00:00+03:00",
                    "2018-09-20T02:00:00+03:00",
                    "2018-09-20T03:00:00+03:00",
                    "2018-09-20T04:00:00+03:00",
                    "2018-09-20T05:00:00+03:00",
                    "2018-09-20T06:00:00+03:00",
                    "2018-09-20T07:00:00+03:00",
                    "2018-09-20T08:00:00+03:00",
                    "2018-09-20T09:00:00+03:00",
                    "2018-09-20T10:00:00+03:00",
                    "2018-09-20T11:00:00+03:00",
                    "2018-09-20T12:00:00+03:00",
                    "2018-09-20T13:00:00+03:00",
                    "2018-09-20T14:00:00+03:00",
                    "2018-09-20T15:00:00+03:00",
                    "2018-09-20T16:00:00+03:00",
                    "2018-09-20T17:00:00+03:00",
                    "2018-09-20T18:00:00+03:00",
                    "2018-09-20T19:00:00+03:00",
                    "2018-09-20T20:00:00+03:00",
                    "2018-09-20T21:00:00+03:00",
                    "2018-09-20T22:00:00+03:00",
                    "2018-09-20T23:00:00+03:00",
                    "2018-09-21T00:00:00+03:00",
                    "2018-09-21T01:00:00+03:00",
                    "2018-09-21T02:00:00+03:00",
                    "2018-09-21T03:00:00+03:00",
                    "2018-09-21T04:00:00+03:00",
                    "2018-09-21T05:00:00+03:00",
                    "2018-09-21T06:00:00+03:00",
                    "2018-09-21T07:00:00+03:00",
                    "2018-09-21T08:00:00+03:00",
                    "2018-09-21T09:00:00+03:00",
                    "2018-09-21T10:00:00+03:00",
                    "2018-09-21T11:00:00+03:00",
                    "2018-09-21T12:00:00+03:00",
                    "2018-09-21T13:00:00+03:00",
                    "2018-09-21T14:00:00+03:00",
                    "2018-09-21T15:00:00+03:00",
                    "2018-09-21T16:00:00+03:00",
                    "2018-09-21T17:00:00+03:00",
                    "2018-09-21T18:00:00+03:00",
                    "2018-09-21T19:00:00+03:00",
                    "2018-09-21T20:00:00+03:00",
                    "2018-09-21T21:00:00+03:00",
                    "2018-09-21T22:00:00+03:00",
                    "2018-09-21T23:00:00+03:00",
                    "2018-09-22T00:00:00+03:00",
                    "2018-09-22T01:00:00+03:00",
                    "2018-09-22T02:00:00+03:00",
                    "2018-09-22T03:00:00+03:00",
                    "2018-09-22T04:00:00+03:00",
                    "2018-09-22T05:00:00+03:00",
                    "2018-09-22T06:00:00+03:00",
                    "2018-09-22T07:00:00+03:00",
                    "2018-09-22T08:00:00+03:00",
                    "2018-09-22T09:00:00+03:00",
                    "2018-09-22T10:00:00+03:00",
                    "2018-09-22T11:00:00+03:00",
                    "2018-09-22T12:00:00+03:00",
                    "2018-09-22T13:00:00+03:00",
                    "2018-09-22T14:00:00+03:00",
                    "2018-09-22T15:00:00+03:00",
                    "2018-09-22T16:00:00+03:00",
                    "2018-09-22T17:00:00+03:00",
                    "2018-09-22T18:00:00+03:00",
                    "2018-09-22T19:00:00+03:00",
                    "2018-09-22T20:00:00+03:00",
                    "2018-09-22T21:00:00+03:00",
                    "2018-09-22T22:00:00+03:00",
                    "2018-09-22T23:00:00+03:00",
                    "2018-09-23T00:00:00+03:00",
                    "2018-09-23T01:00:00+03:00",
                    "2018-09-23T02:00:00+03:00",
                    "2018-09-23T03:00:00+03:00",
                    "2018-09-23T04:00:00+03:00",
                    "2018-09-23T05:00:00+03:00",
                    "2018-09-23T06:00:00+03:00",
                    "2018-09-23T07:00:00+03:00",
                    "2018-09-23T08:00:00+03:00",
                    "2018-09-23T09:00:00+03:00",
                    "2018-09-23T10:00:00+03:00",
                    "2018-09-23T11:00:00+03:00",
                    "2018-09-23T12:00:00+03:00",
                    "2018-09-23T13:00:00+03:00",
                    "2018-09-23T14:00:00+03:00",
                    "2018-09-23T15:00:00+03:00",
                    "2018-09-23T16:00:00+03:00",
                    "2018-09-23T17:00:00+03:00",
                    "2018-09-23T18:00:00+03:00",
                    "2018-09-23T19:00:00+03:00",
                    "2018-09-23T20:00:00+03:00",
                    "2018-09-23T21:00:00+03:00",
                    "2018-09-23T22:00:00+03:00",
                    "2018-09-23T23:00:00+03:00",
                    "2018-09-24T00:00:00+03:00",
                    "2018-09-24T01:00:00+03:00",
                    "2018-09-24T02:00:00+03:00",
                    "2018-09-24T03:00:00+03:00",
                    "2018-09-24T04:00:00+03:00",
                    "2018-09-24T05:00:00+03:00",
                    "2018-09-24T06:00:00+03:00",
                    "2018-09-24T07:00:00+03:00",
                    "2018-09-24T08:00:00+03:00",
                    "2018-09-24T09:00:00+03:00",
                    "2018-09-24T10:00:00+03:00",
                    "2018-09-24T11:00:00+03:00",
                    "2018-09-24T12:00:00+03:00",
                    "2018-09-24T13:00:00+03:00",
                    "2018-09-24T14:00:00+03:00",
                    "2018-09-24T15:00:00+03:00",
                    "2018-09-24T16:00:00+03:00",
                    "2018-09-24T17:00:00+03:00",
                    "2018-09-24T18:00:00+03:00",
                    "2018-09-24T19:00:00+03:00",
                    "2018-09-24T20:00:00+03:00",
                    "2018-09-24T21:00:00+03:00",
                    "2018-09-24T22:00:00+03:00",
                    "2018-09-24T23:00:00+03:00",
                    "2018-09-25T00:00:00+03:00",
                    "2018-09-25T01:00:00+03:00",
                    "2018-09-25T02:00:00+03:00",
                    "2018-09-25T03:00:00+03:00",
                    "2018-09-25T04:00:00+03:00",
                    "2018-09-25T05:00:00+03:00",
                    "2018-09-25T06:00:00+03:00",
                    "2018-09-25T07:00:00+03:00",
                    "2018-09-25T08:00:00+03:00",
                    "2018-09-25T09:00:00+03:00",
                    "2018-09-25T10:00:00+03:00",
                    "2018-09-25T11:00:00+03:00",
                    "2018-09-25T12:00:00+03:00",
                    "2018-09-25T13:00:00+03:00",
                    "2018-09-25T14:00:00+03:00",
                    "2018-09-25T15:00:00+03:00",
                    "2018-09-25T16:00:00+03:00",
                    "2018-09-25T17:00:00+03:00",
                    "2018-09-25T18:00:00+03:00",
                    "2018-09-25T19:00:00+03:00",
                    "2018-09-25T20:00:00+03:00",
                    "2018-09-25T21:00:00+03:00",
                    "2018-09-25T22:00:00+03:00",
                    "2018-09-25T23:00:00+03:00",
                    "2018-09-26T00:00:00+03:00",
                    "2018-09-26T01:00:00+03:00",
                    "2018-09-26T02:00:00+03:00",
                    "2018-09-26T03:00:00+03:00",
                    "2018-09-26T04:00:00+03:00",
                    "2018-09-26T05:00:00+03:00",
                    "2018-09-26T06:00:00+03:00",
                    "2018-09-26T07:00:00+03:00",
                    "2018-09-26T08:00:00+03:00",
                    "2018-09-26T09:00:00+03:00",
                    "2018-09-26T10:00:00+03:00",
                    "2018-09-26T11:00:00+03:00",
                    "2018-09-26T12:00:00+03:00",
                    "2018-09-26T13:00:00+03:00",
                    "2018-09-26T14:00:00+03:00",
                    "2018-09-26T15:00:00+03:00",
                    "2018-09-26T16:00:00+03:00",
                    "2018-09-26T17:00:00+03:00",
                    "2018-09-26T18:00:00+03:00",
                    "2018-09-26T19:00:00+03:00",
                    "2018-09-26T20:00:00+03:00",
                    "2018-09-26T21:00:00+03:00",
                    "2018-09-26T22:00:00+03:00",
                    "2018-09-26T23:00:00+03:00",
                    "2018-09-27T00:00:00+03:00",
                    "2018-09-27T01:00:00+03:00",
                    "2018-09-27T02:00:00+03:00",
                    "2018-09-27T03:00:00+03:00",
                    "2018-09-27T04:00:00+03:00",
                    "2018-09-27T05:00:00+03:00",
                    "2018-09-27T06:00:00+03:00",
                    "2018-09-27T07:00:00+03:00",
                    "2018-09-27T08:00:00+03:00",
                    "2018-09-27T09:00:00+03:00",
                    "2018-09-27T10:00:00+03:00",
                    "2018-09-27T11:00:00+03:00",
                    "2018-09-27T12:00:00+03:00",
                    "2018-09-27T13:00:00+03:00",
                    "2018-09-27T14:00:00+03:00",
                    "2018-09-27T15:00:00+03:00",
                    "2018-09-27T16:00:00+03:00"
                  ],
                  "xaxis": "x",
                  "y": [
                    3.286240144374273,
                    5.144784585042405,
                    11.806077588193547,
                    6.989316171958529,
                    8.483240154478953,
                    6.799874324654042,
                    6.457134193280105,
                    4.321791819590877,
                    4.614404502465525,
                    5.186462752586062,
                    5.465409575359872,
                    6.6452571867593955,
                    14.896193829808547,
                    28.19861952648683,
                    28.659405095831755,
                    31.836297622927173,
                    10.138531832235639,
                    6.369234033472465,
                    4.874150488301167,
                    2.994545374401799,
                    2.308707452593607,
                    3.2206845506176105,
                    3.540022573560362,
                    2.7404418703169022,
                    6.110283096280741,
                    4.194213407938214,
                    6.774667403376304,
                    8.70167144014241,
                    6.207168205413336,
                    4.796511339007015,
                    3.213419816184107,
                    3.4997759465844487,
                    3.42621728307828,
                    5.0020551561049595,
                    7.635314870318277,
                    11.34600622499431,
                    17.0761087318915,
                    23.35367842377551,
                    18.52050665590937,
                    17.10189990321225,
                    10.7230485944503,
                    6.408896561526719,
                    5.3179419319508,
                    4.162419043546686,
                    4.362770971203014,
                    4.961355363079152,
                    6.210869351092767,
                    5.968839340698053,
                    5.499776047790034,
                    6.724486361077932,
                    6.489134983790892,
                    7.373599939915763,
                    6.235545952016848,
                    5.8419403646754535,
                    5.4891770011738945,
                    4.916046217331197,
                    5.059512669078551,
                    7.166524953484073,
                    18.188139125239008,
                    13.352434565468227,
                    12.475551461003848,
                    12.41359608917184,
                    14.262759923667671,
                    12.617349866662579,
                    15.182438362504719,
                    9.059177503183404,
                    7.464221129818482,
                    7.904130975695518,
                    6.105067059099509,
                    3.6191318720930017,
                    3.8485741779326785,
                    2.6488608347440206,
                    2.4225480567950743,
                    3.4305243295723526,
                    4.009008341925377,
                    3.87307998670827,
                    5.712413913163427,
                    5.020140496030583,
                    5.149154653896377,
                    4.728623001570159,
                    6.309467248874254,
                    5.1411633107197865,
                    5.682502730495794,
                    4.125757103948449,
                    4.441133821521634,
                    5.905697741492214,
                    6.698950977674981,
                    7.11455647561561,
                    7.9774955793459625,
                    5.986256128659095,
                    3.9463409892315404,
                    3.322720457720927,
                    3.4815726619574217,
                    2.7996898671265025,
                    3.689128207891622,
                    3.1507801412231244,
                    3.652146146458373,
                    3.9663080658459,
                    4.733473977162532,
                    5.940418915207796,
                    5.952394079742844,
                    5.451941080734953,
                    5.869405222315782,
                    5.03608641942555,
                    4.8600150680704814,
                    4.784665438499816,
                    5.408830064411209,
                    7.393886807073885,
                    6.104738979077364,
                    6.192445739498478,
                    6.742187808233064,
                    6.2503067439112705,
                    4.960911195702138,
                    4.563188582695408,
                    5.704119882852396,
                    4.440547095285639,
                    4.2288027839654925,
                    3.65264051034941,
                    3.63136558863954,
                    3.6442587545506795,
                    4.678452526337553,
                    5.2890721098720235,
                    4.951728506990076,
                    6.616522713829126,
                    6.77634250601874,
                    6.794463785505554,
                    5.628490202600137,
                    5.237837718845227,
                    5.623687514642995,
                    6.686597996290341,
                    6.126916892981794,
                    7.037489173961186,
                    10.53950049094567,
                    11.369687365749884,
                    9.166256317259545,
                    11.23242183718831,
                    11.829365479450402,
                    7.364068990957727,
                    6.564826068161415,
                    6.09233531191296,
                    4.683474299763579,
                    4.847122791161252,
                    4.954217847639573,
                    4.709802700171642,
                    4.509032024859466,
                    5.006714927193618,
                    4.65703463453965,
                    7.8510200814759585,
                    8.956038197811672,
                    6.842258888862652,
                    5.231709902116694,
                    5.38815430332851,
                    4.7695929940283035,
                    4.357169344903808,
                    5.061543713076354,
                    5.005111361548633,
                    4.829089527143325,
                    5.49569891253103,
                    7.200485617019088,
                    10.733134122831252,
                    7.766322646966131,
                    4.705941843600834,
                    3.905634704889998,
                    4.067874453067834,
                    3.6350969259850414,
                    4.013729421606818,
                    4.347458016586443,
                    4.754922960279536,
                    4.5818476193760205,
                    5.286918812304961,
                    5.793760451684508,
                    6.108809672131123,
                    5.8345597896024595,
                    5.2134477888729425,
                    4.729461384047964,
                    4.0940253667661874,
                    3.7279131619588775,
                    3.7480757261714084,
                    3.9153364150703682,
                    4.159555058872846,
                    5.861646935427612,
                    13.111132136690417,
                    17.41943936120377,
                    14.975020571379885,
                    7.491607495591829,
                    5.7334691331929095,
                    5.5421256404348025,
                    3.393037280150111,
                    3.529567758409221,
                    4.0093020751233865,
                    3.745209717112776,
                    3.970658110842299,
                    5.029679704413054,
                    5.031313130589616,
                    4.517784843245623,
                    6.136510213933373,
                    6.03383809243284,
                    5.280373503296718,
                    4.279279744817794,
                    4.107818784332169,
                    4.135674420689263,
                    4.919030776320456,
                    6.324629192548885,
                    7.976574241737109,
                    14.921729107047543,
                    19.720818421362864,
                    11.993348344889329,
                    11.180294177888307,
                    8.460811930812937,
                    5.977838029431181,
                    3.254868299258718,
                    4.208105366186318,
                    3.2148009153425945,
                    3.870356757586786,
                    4.291698108779351,
                    4.433513610168844,
                    4.040719158012397,
                    6.738683229551098,
                    3.817536903765893,
                    5.523281202330201,
                    4.483328736747114,
                    4.446830954328678,
                    3.930564672192291,
                    5.04896112508788,
                    5.412123528095264,
                    6.091363940498503,
                    8.788587334618516,
                    10.504380757017156,
                    10.398421718263444,
                    11.86050964281204,
                    11.079740722478688,
                    10.954518880395812,
                    11.755465451474308,
                    8.438582287822314,
                    2.7027747396751587,
                    3.3170228315080945,
                    3.566832085383675,
                    3.7284097437128456,
                    3.8380764536867003,
                    5.035353008394096,
                    4.023435142344069,
                    5.8613291824798495,
                    6.0823292386854595,
                    7.552742649926436,
                    7.513081821961043,
                    7.673774274577561,
                    7.379415209796444,
                    7.942149889430151,
                    8.76013687272017,
                    9.713158910905374,
                    10.888464542721138,
                    13.243705840849664,
                    13.190530304831729,
                    14.28626587968673,
                    14.233164042814538,
                    13.579186436056714,
                    10.584480670000481,
                    8.632144143236376,
                    7.908180520365319,
                    8.401669483872727,
                    7.323448390048966,
                    8.088876712864796,
                    8.191053444567642,
                    8.976010418127794
                  ],
                  "yaxis": "y"
                }
              ],
              "layout": {
                "legend": {
                  "title": {
                    "text": "variable"
                  },
                  "tracegroupgap": 0
                },
                "margin": {
                  "t": 60
                },
                "template": {
                  "data": {
                    "bar": [
                      {
                        "error_x": {
                          "color": "#2a3f5f"
                        },
                        "error_y": {
                          "color": "#2a3f5f"
                        },
                        "marker": {
                          "line": {
                            "color": "#E5ECF6",
                            "width": 0.5
                          },
                          "pattern": {
                            "fillmode": "overlay",
                            "size": 10,
                            "solidity": 0.2
                          }
                        },
                        "type": "bar"
                      }
                    ],
                    "barpolar": [
                      {
                        "marker": {
                          "line": {
                            "color": "#E5ECF6",
                            "width": 0.5
                          },
                          "pattern": {
                            "fillmode": "overlay",
                            "size": 10,
                            "solidity": 0.2
                          }
                        },
                        "type": "barpolar"
                      }
                    ],
                    "carpet": [
                      {
                        "aaxis": {
                          "endlinecolor": "#2a3f5f",
                          "gridcolor": "white",
                          "linecolor": "white",
                          "minorgridcolor": "white",
                          "startlinecolor": "#2a3f5f"
                        },
                        "baxis": {
                          "endlinecolor": "#2a3f5f",
                          "gridcolor": "white",
                          "linecolor": "white",
                          "minorgridcolor": "white",
                          "startlinecolor": "#2a3f5f"
                        },
                        "type": "carpet"
                      }
                    ],
                    "choropleth": [
                      {
                        "colorbar": {
                          "outlinewidth": 0,
                          "ticks": ""
                        },
                        "type": "choropleth"
                      }
                    ],
                    "contour": [
                      {
                        "colorbar": {
                          "outlinewidth": 0,
                          "ticks": ""
                        },
                        "colorscale": [
                          [
                            0,
                            "#0d0887"
                          ],
                          [
                            0.1111111111111111,
                            "#46039f"
                          ],
                          [
                            0.2222222222222222,
                            "#7201a8"
                          ],
                          [
                            0.3333333333333333,
                            "#9c179e"
                          ],
                          [
                            0.4444444444444444,
                            "#bd3786"
                          ],
                          [
                            0.5555555555555556,
                            "#d8576b"
                          ],
                          [
                            0.6666666666666666,
                            "#ed7953"
                          ],
                          [
                            0.7777777777777778,
                            "#fb9f3a"
                          ],
                          [
                            0.8888888888888888,
                            "#fdca26"
                          ],
                          [
                            1,
                            "#f0f921"
                          ]
                        ],
                        "type": "contour"
                      }
                    ],
                    "contourcarpet": [
                      {
                        "colorbar": {
                          "outlinewidth": 0,
                          "ticks": ""
                        },
                        "type": "contourcarpet"
                      }
                    ],
                    "heatmap": [
                      {
                        "colorbar": {
                          "outlinewidth": 0,
                          "ticks": ""
                        },
                        "colorscale": [
                          [
                            0,
                            "#0d0887"
                          ],
                          [
                            0.1111111111111111,
                            "#46039f"
                          ],
                          [
                            0.2222222222222222,
                            "#7201a8"
                          ],
                          [
                            0.3333333333333333,
                            "#9c179e"
                          ],
                          [
                            0.4444444444444444,
                            "#bd3786"
                          ],
                          [
                            0.5555555555555556,
                            "#d8576b"
                          ],
                          [
                            0.6666666666666666,
                            "#ed7953"
                          ],
                          [
                            0.7777777777777778,
                            "#fb9f3a"
                          ],
                          [
                            0.8888888888888888,
                            "#fdca26"
                          ],
                          [
                            1,
                            "#f0f921"
                          ]
                        ],
                        "type": "heatmap"
                      }
                    ],
                    "heatmapgl": [
                      {
                        "colorbar": {
                          "outlinewidth": 0,
                          "ticks": ""
                        },
                        "colorscale": [
                          [
                            0,
                            "#0d0887"
                          ],
                          [
                            0.1111111111111111,
                            "#46039f"
                          ],
                          [
                            0.2222222222222222,
                            "#7201a8"
                          ],
                          [
                            0.3333333333333333,
                            "#9c179e"
                          ],
                          [
                            0.4444444444444444,
                            "#bd3786"
                          ],
                          [
                            0.5555555555555556,
                            "#d8576b"
                          ],
                          [
                            0.6666666666666666,
                            "#ed7953"
                          ],
                          [
                            0.7777777777777778,
                            "#fb9f3a"
                          ],
                          [
                            0.8888888888888888,
                            "#fdca26"
                          ],
                          [
                            1,
                            "#f0f921"
                          ]
                        ],
                        "type": "heatmapgl"
                      }
                    ],
                    "histogram": [
                      {
                        "marker": {
                          "pattern": {
                            "fillmode": "overlay",
                            "size": 10,
                            "solidity": 0.2
                          }
                        },
                        "type": "histogram"
                      }
                    ],
                    "histogram2d": [
                      {
                        "colorbar": {
                          "outlinewidth": 0,
                          "ticks": ""
                        },
                        "colorscale": [
                          [
                            0,
                            "#0d0887"
                          ],
                          [
                            0.1111111111111111,
                            "#46039f"
                          ],
                          [
                            0.2222222222222222,
                            "#7201a8"
                          ],
                          [
                            0.3333333333333333,
                            "#9c179e"
                          ],
                          [
                            0.4444444444444444,
                            "#bd3786"
                          ],
                          [
                            0.5555555555555556,
                            "#d8576b"
                          ],
                          [
                            0.6666666666666666,
                            "#ed7953"
                          ],
                          [
                            0.7777777777777778,
                            "#fb9f3a"
                          ],
                          [
                            0.8888888888888888,
                            "#fdca26"
                          ],
                          [
                            1,
                            "#f0f921"
                          ]
                        ],
                        "type": "histogram2d"
                      }
                    ],
                    "histogram2dcontour": [
                      {
                        "colorbar": {
                          "outlinewidth": 0,
                          "ticks": ""
                        },
                        "colorscale": [
                          [
                            0,
                            "#0d0887"
                          ],
                          [
                            0.1111111111111111,
                            "#46039f"
                          ],
                          [
                            0.2222222222222222,
                            "#7201a8"
                          ],
                          [
                            0.3333333333333333,
                            "#9c179e"
                          ],
                          [
                            0.4444444444444444,
                            "#bd3786"
                          ],
                          [
                            0.5555555555555556,
                            "#d8576b"
                          ],
                          [
                            0.6666666666666666,
                            "#ed7953"
                          ],
                          [
                            0.7777777777777778,
                            "#fb9f3a"
                          ],
                          [
                            0.8888888888888888,
                            "#fdca26"
                          ],
                          [
                            1,
                            "#f0f921"
                          ]
                        ],
                        "type": "histogram2dcontour"
                      }
                    ],
                    "mesh3d": [
                      {
                        "colorbar": {
                          "outlinewidth": 0,
                          "ticks": ""
                        },
                        "type": "mesh3d"
                      }
                    ],
                    "parcoords": [
                      {
                        "line": {
                          "colorbar": {
                            "outlinewidth": 0,
                            "ticks": ""
                          }
                        },
                        "type": "parcoords"
                      }
                    ],
                    "pie": [
                      {
                        "automargin": true,
                        "type": "pie"
                      }
                    ],
                    "scatter": [
                      {
                        "fillpattern": {
                          "fillmode": "overlay",
                          "size": 10,
                          "solidity": 0.2
                        },
                        "type": "scatter"
                      }
                    ],
                    "scatter3d": [
                      {
                        "line": {
                          "colorbar": {
                            "outlinewidth": 0,
                            "ticks": ""
                          }
                        },
                        "marker": {
                          "colorbar": {
                            "outlinewidth": 0,
                            "ticks": ""
                          }
                        },
                        "type": "scatter3d"
                      }
                    ],
                    "scattercarpet": [
                      {
                        "marker": {
                          "colorbar": {
                            "outlinewidth": 0,
                            "ticks": ""
                          }
                        },
                        "type": "scattercarpet"
                      }
                    ],
                    "scattergeo": [
                      {
                        "marker": {
                          "colorbar": {
                            "outlinewidth": 0,
                            "ticks": ""
                          }
                        },
                        "type": "scattergeo"
                      }
                    ],
                    "scattergl": [
                      {
                        "marker": {
                          "colorbar": {
                            "outlinewidth": 0,
                            "ticks": ""
                          }
                        },
                        "type": "scattergl"
                      }
                    ],
                    "scattermapbox": [
                      {
                        "marker": {
                          "colorbar": {
                            "outlinewidth": 0,
                            "ticks": ""
                          }
                        },
                        "type": "scattermapbox"
                      }
                    ],
                    "scatterpolar": [
                      {
                        "marker": {
                          "colorbar": {
                            "outlinewidth": 0,
                            "ticks": ""
                          }
                        },
                        "type": "scatterpolar"
                      }
                    ],
                    "scatterpolargl": [
                      {
                        "marker": {
                          "colorbar": {
                            "outlinewidth": 0,
                            "ticks": ""
                          }
                        },
                        "type": "scatterpolargl"
                      }
                    ],
                    "scatterternary": [
                      {
                        "marker": {
                          "colorbar": {
                            "outlinewidth": 0,
                            "ticks": ""
                          }
                        },
                        "type": "scatterternary"
                      }
                    ],
                    "surface": [
                      {
                        "colorbar": {
                          "outlinewidth": 0,
                          "ticks": ""
                        },
                        "colorscale": [
                          [
                            0,
                            "#0d0887"
                          ],
                          [
                            0.1111111111111111,
                            "#46039f"
                          ],
                          [
                            0.2222222222222222,
                            "#7201a8"
                          ],
                          [
                            0.3333333333333333,
                            "#9c179e"
                          ],
                          [
                            0.4444444444444444,
                            "#bd3786"
                          ],
                          [
                            0.5555555555555556,
                            "#d8576b"
                          ],
                          [
                            0.6666666666666666,
                            "#ed7953"
                          ],
                          [
                            0.7777777777777778,
                            "#fb9f3a"
                          ],
                          [
                            0.8888888888888888,
                            "#fdca26"
                          ],
                          [
                            1,
                            "#f0f921"
                          ]
                        ],
                        "type": "surface"
                      }
                    ],
                    "table": [
                      {
                        "cells": {
                          "fill": {
                            "color": "#EBF0F8"
                          },
                          "line": {
                            "color": "white"
                          }
                        },
                        "header": {
                          "fill": {
                            "color": "#C8D4E3"
                          },
                          "line": {
                            "color": "white"
                          }
                        },
                        "type": "table"
                      }
                    ]
                  },
                  "layout": {
                    "annotationdefaults": {
                      "arrowcolor": "#2a3f5f",
                      "arrowhead": 0,
                      "arrowwidth": 1
                    },
                    "autotypenumbers": "strict",
                    "coloraxis": {
                      "colorbar": {
                        "outlinewidth": 0,
                        "ticks": ""
                      }
                    },
                    "colorscale": {
                      "diverging": [
                        [
                          0,
                          "#8e0152"
                        ],
                        [
                          0.1,
                          "#c51b7d"
                        ],
                        [
                          0.2,
                          "#de77ae"
                        ],
                        [
                          0.3,
                          "#f1b6da"
                        ],
                        [
                          0.4,
                          "#fde0ef"
                        ],
                        [
                          0.5,
                          "#f7f7f7"
                        ],
                        [
                          0.6,
                          "#e6f5d0"
                        ],
                        [
                          0.7,
                          "#b8e186"
                        ],
                        [
                          0.8,
                          "#7fbc41"
                        ],
                        [
                          0.9,
                          "#4d9221"
                        ],
                        [
                          1,
                          "#276419"
                        ]
                      ],
                      "sequential": [
                        [
                          0,
                          "#0d0887"
                        ],
                        [
                          0.1111111111111111,
                          "#46039f"
                        ],
                        [
                          0.2222222222222222,
                          "#7201a8"
                        ],
                        [
                          0.3333333333333333,
                          "#9c179e"
                        ],
                        [
                          0.4444444444444444,
                          "#bd3786"
                        ],
                        [
                          0.5555555555555556,
                          "#d8576b"
                        ],
                        [
                          0.6666666666666666,
                          "#ed7953"
                        ],
                        [
                          0.7777777777777778,
                          "#fb9f3a"
                        ],
                        [
                          0.8888888888888888,
                          "#fdca26"
                        ],
                        [
                          1,
                          "#f0f921"
                        ]
                      ],
                      "sequentialminus": [
                        [
                          0,
                          "#0d0887"
                        ],
                        [
                          0.1111111111111111,
                          "#46039f"
                        ],
                        [
                          0.2222222222222222,
                          "#7201a8"
                        ],
                        [
                          0.3333333333333333,
                          "#9c179e"
                        ],
                        [
                          0.4444444444444444,
                          "#bd3786"
                        ],
                        [
                          0.5555555555555556,
                          "#d8576b"
                        ],
                        [
                          0.6666666666666666,
                          "#ed7953"
                        ],
                        [
                          0.7777777777777778,
                          "#fb9f3a"
                        ],
                        [
                          0.8888888888888888,
                          "#fdca26"
                        ],
                        [
                          1,
                          "#f0f921"
                        ]
                      ]
                    },
                    "colorway": [
                      "#636efa",
                      "#EF553B",
                      "#00cc96",
                      "#ab63fa",
                      "#FFA15A",
                      "#19d3f3",
                      "#FF6692",
                      "#B6E880",
                      "#FF97FF",
                      "#FECB52"
                    ],
                    "font": {
                      "color": "#2a3f5f"
                    },
                    "geo": {
                      "bgcolor": "white",
                      "lakecolor": "white",
                      "landcolor": "#E5ECF6",
                      "showlakes": true,
                      "showland": true,
                      "subunitcolor": "white"
                    },
                    "hoverlabel": {
                      "align": "left"
                    },
                    "hovermode": "closest",
                    "mapbox": {
                      "style": "light"
                    },
                    "paper_bgcolor": "white",
                    "plot_bgcolor": "#E5ECF6",
                    "polar": {
                      "angularaxis": {
                        "gridcolor": "white",
                        "linecolor": "white",
                        "ticks": ""
                      },
                      "bgcolor": "#E5ECF6",
                      "radialaxis": {
                        "gridcolor": "white",
                        "linecolor": "white",
                        "ticks": ""
                      }
                    },
                    "scene": {
                      "xaxis": {
                        "backgroundcolor": "#E5ECF6",
                        "gridcolor": "white",
                        "gridwidth": 2,
                        "linecolor": "white",
                        "showbackground": true,
                        "ticks": "",
                        "zerolinecolor": "white"
                      },
                      "yaxis": {
                        "backgroundcolor": "#E5ECF6",
                        "gridcolor": "white",
                        "gridwidth": 2,
                        "linecolor": "white",
                        "showbackground": true,
                        "ticks": "",
                        "zerolinecolor": "white"
                      },
                      "zaxis": {
                        "backgroundcolor": "#E5ECF6",
                        "gridcolor": "white",
                        "gridwidth": 2,
                        "linecolor": "white",
                        "showbackground": true,
                        "ticks": "",
                        "zerolinecolor": "white"
                      }
                    },
                    "shapedefaults": {
                      "line": {
                        "color": "#2a3f5f"
                      }
                    },
                    "ternary": {
                      "aaxis": {
                        "gridcolor": "white",
                        "linecolor": "white",
                        "ticks": ""
                      },
                      "baxis": {
                        "gridcolor": "white",
                        "linecolor": "white",
                        "ticks": ""
                      },
                      "bgcolor": "#E5ECF6",
                      "caxis": {
                        "gridcolor": "white",
                        "linecolor": "white",
                        "ticks": ""
                      }
                    },
                    "title": {
                      "x": 0.05
                    },
                    "xaxis": {
                      "automargin": true,
                      "gridcolor": "white",
                      "linecolor": "white",
                      "ticks": "",
                      "title": {
                        "standoff": 15
                      },
                      "zerolinecolor": "white",
                      "zerolinewidth": 2
                    },
                    "yaxis": {
                      "automargin": true,
                      "gridcolor": "white",
                      "linecolor": "white",
                      "ticks": "",
                      "title": {
                        "standoff": 15
                      },
                      "zerolinecolor": "white",
                      "zerolinewidth": 2
                    }
                  }
                },
                "title": {
                  "text": "Dar-es-salaam, Walk-forward validation Predictions"
                },
                "xaxis": {
                  "anchor": "y",
                  "domain": [
                    0,
                    1
                  ],
                  "title": {
                    "text": "Date"
                  }
                },
                "yaxis": {
                  "anchor": "x",
                  "domain": [
                    0,
                    1
                  ],
                  "title": {
                    "text": "PM2.5 level"
                  }
                }
              }
            },
            "text/html": [
              "<div>                            <div id=\"2b859c6c-6131-4c78-9010-a5c0c1220018\" class=\"plotly-graph-div\" style=\"height:525px; width:100%;\"></div>            <script type=\"text/javascript\">                require([\"plotly\"], function(Plotly) {                    window.PLOTLYENV=window.PLOTLYENV || {};                                    if (document.getElementById(\"2b859c6c-6131-4c78-9010-a5c0c1220018\")) {                    Plotly.newPlot(                        \"2b859c6c-6131-4c78-9010-a5c0c1220018\",                        [{\"hovertemplate\":\"variable=y_test<br>timestamp=%{x}<br>value=%{y}<extra></extra>\",\"legendgroup\":\"y_test\",\"line\":{\"color\":\"#636efa\",\"dash\":\"solid\"},\"marker\":{\"symbol\":\"circle\"},\"mode\":\"lines\",\"name\":\"y_test\",\"orientation\":\"v\",\"showlegend\":true,\"x\":[\"2018-09-16T17:00:00+03:00\",\"2018-09-16T18:00:00+03:00\",\"2018-09-16T19:00:00+03:00\",\"2018-09-16T20:00:00+03:00\",\"2018-09-16T21:00:00+03:00\",\"2018-09-16T22:00:00+03:00\",\"2018-09-16T23:00:00+03:00\",\"2018-09-17T00:00:00+03:00\",\"2018-09-17T01:00:00+03:00\",\"2018-09-17T02:00:00+03:00\",\"2018-09-17T03:00:00+03:00\",\"2018-09-17T04:00:00+03:00\",\"2018-09-17T05:00:00+03:00\",\"2018-09-17T06:00:00+03:00\",\"2018-09-17T07:00:00+03:00\",\"2018-09-17T08:00:00+03:00\",\"2018-09-17T09:00:00+03:00\",\"2018-09-17T10:00:00+03:00\",\"2018-09-17T11:00:00+03:00\",\"2018-09-17T12:00:00+03:00\",\"2018-09-17T13:00:00+03:00\",\"2018-09-17T14:00:00+03:00\",\"2018-09-17T15:00:00+03:00\",\"2018-09-17T16:00:00+03:00\",\"2018-09-17T17:00:00+03:00\",\"2018-09-17T18:00:00+03:00\",\"2018-09-17T19:00:00+03:00\",\"2018-09-17T20:00:00+03:00\",\"2018-09-17T21:00:00+03:00\",\"2018-09-17T22:00:00+03:00\",\"2018-09-17T23:00:00+03:00\",\"2018-09-18T00:00:00+03:00\",\"2018-09-18T01:00:00+03:00\",\"2018-09-18T02:00:00+03:00\",\"2018-09-18T03:00:00+03:00\",\"2018-09-18T04:00:00+03:00\",\"2018-09-18T05:00:00+03:00\",\"2018-09-18T06:00:00+03:00\",\"2018-09-18T07:00:00+03:00\",\"2018-09-18T08:00:00+03:00\",\"2018-09-18T09:00:00+03:00\",\"2018-09-18T10:00:00+03:00\",\"2018-09-18T11:00:00+03:00\",\"2018-09-18T12:00:00+03:00\",\"2018-09-18T13:00:00+03:00\",\"2018-09-18T14:00:00+03:00\",\"2018-09-18T15:00:00+03:00\",\"2018-09-18T16:00:00+03:00\",\"2018-09-18T17:00:00+03:00\",\"2018-09-18T18:00:00+03:00\",\"2018-09-18T19:00:00+03:00\",\"2018-09-18T20:00:00+03:00\",\"2018-09-18T21:00:00+03:00\",\"2018-09-18T22:00:00+03:00\",\"2018-09-18T23:00:00+03:00\",\"2018-09-19T00:00:00+03:00\",\"2018-09-19T01:00:00+03:00\",\"2018-09-19T02:00:00+03:00\",\"2018-09-19T03:00:00+03:00\",\"2018-09-19T04:00:00+03:00\",\"2018-09-19T05:00:00+03:00\",\"2018-09-19T06:00:00+03:00\",\"2018-09-19T07:00:00+03:00\",\"2018-09-19T08:00:00+03:00\",\"2018-09-19T09:00:00+03:00\",\"2018-09-19T10:00:00+03:00\",\"2018-09-19T11:00:00+03:00\",\"2018-09-19T12:00:00+03:00\",\"2018-09-19T13:00:00+03:00\",\"2018-09-19T14:00:00+03:00\",\"2018-09-19T15:00:00+03:00\",\"2018-09-19T16:00:00+03:00\",\"2018-09-19T17:00:00+03:00\",\"2018-09-19T18:00:00+03:00\",\"2018-09-19T19:00:00+03:00\",\"2018-09-19T20:00:00+03:00\",\"2018-09-19T21:00:00+03:00\",\"2018-09-19T22:00:00+03:00\",\"2018-09-19T23:00:00+03:00\",\"2018-09-20T00:00:00+03:00\",\"2018-09-20T01:00:00+03:00\",\"2018-09-20T02:00:00+03:00\",\"2018-09-20T03:00:00+03:00\",\"2018-09-20T04:00:00+03:00\",\"2018-09-20T05:00:00+03:00\",\"2018-09-20T06:00:00+03:00\",\"2018-09-20T07:00:00+03:00\",\"2018-09-20T08:00:00+03:00\",\"2018-09-20T09:00:00+03:00\",\"2018-09-20T10:00:00+03:00\",\"2018-09-20T11:00:00+03:00\",\"2018-09-20T12:00:00+03:00\",\"2018-09-20T13:00:00+03:00\",\"2018-09-20T14:00:00+03:00\",\"2018-09-20T15:00:00+03:00\",\"2018-09-20T16:00:00+03:00\",\"2018-09-20T17:00:00+03:00\",\"2018-09-20T18:00:00+03:00\",\"2018-09-20T19:00:00+03:00\",\"2018-09-20T20:00:00+03:00\",\"2018-09-20T21:00:00+03:00\",\"2018-09-20T22:00:00+03:00\",\"2018-09-20T23:00:00+03:00\",\"2018-09-21T00:00:00+03:00\",\"2018-09-21T01:00:00+03:00\",\"2018-09-21T02:00:00+03:00\",\"2018-09-21T03:00:00+03:00\",\"2018-09-21T04:00:00+03:00\",\"2018-09-21T05:00:00+03:00\",\"2018-09-21T06:00:00+03:00\",\"2018-09-21T07:00:00+03:00\",\"2018-09-21T08:00:00+03:00\",\"2018-09-21T09:00:00+03:00\",\"2018-09-21T10:00:00+03:00\",\"2018-09-21T11:00:00+03:00\",\"2018-09-21T12:00:00+03:00\",\"2018-09-21T13:00:00+03:00\",\"2018-09-21T14:00:00+03:00\",\"2018-09-21T15:00:00+03:00\",\"2018-09-21T16:00:00+03:00\",\"2018-09-21T17:00:00+03:00\",\"2018-09-21T18:00:00+03:00\",\"2018-09-21T19:00:00+03:00\",\"2018-09-21T20:00:00+03:00\",\"2018-09-21T21:00:00+03:00\",\"2018-09-21T22:00:00+03:00\",\"2018-09-21T23:00:00+03:00\",\"2018-09-22T00:00:00+03:00\",\"2018-09-22T01:00:00+03:00\",\"2018-09-22T02:00:00+03:00\",\"2018-09-22T03:00:00+03:00\",\"2018-09-22T04:00:00+03:00\",\"2018-09-22T05:00:00+03:00\",\"2018-09-22T06:00:00+03:00\",\"2018-09-22T07:00:00+03:00\",\"2018-09-22T08:00:00+03:00\",\"2018-09-22T09:00:00+03:00\",\"2018-09-22T10:00:00+03:00\",\"2018-09-22T11:00:00+03:00\",\"2018-09-22T12:00:00+03:00\",\"2018-09-22T13:00:00+03:00\",\"2018-09-22T14:00:00+03:00\",\"2018-09-22T15:00:00+03:00\",\"2018-09-22T16:00:00+03:00\",\"2018-09-22T17:00:00+03:00\",\"2018-09-22T18:00:00+03:00\",\"2018-09-22T19:00:00+03:00\",\"2018-09-22T20:00:00+03:00\",\"2018-09-22T21:00:00+03:00\",\"2018-09-22T22:00:00+03:00\",\"2018-09-22T23:00:00+03:00\",\"2018-09-23T00:00:00+03:00\",\"2018-09-23T01:00:00+03:00\",\"2018-09-23T02:00:00+03:00\",\"2018-09-23T03:00:00+03:00\",\"2018-09-23T04:00:00+03:00\",\"2018-09-23T05:00:00+03:00\",\"2018-09-23T06:00:00+03:00\",\"2018-09-23T07:00:00+03:00\",\"2018-09-23T08:00:00+03:00\",\"2018-09-23T09:00:00+03:00\",\"2018-09-23T10:00:00+03:00\",\"2018-09-23T11:00:00+03:00\",\"2018-09-23T12:00:00+03:00\",\"2018-09-23T13:00:00+03:00\",\"2018-09-23T14:00:00+03:00\",\"2018-09-23T15:00:00+03:00\",\"2018-09-23T16:00:00+03:00\",\"2018-09-23T17:00:00+03:00\",\"2018-09-23T18:00:00+03:00\",\"2018-09-23T19:00:00+03:00\",\"2018-09-23T20:00:00+03:00\",\"2018-09-23T21:00:00+03:00\",\"2018-09-23T22:00:00+03:00\",\"2018-09-23T23:00:00+03:00\",\"2018-09-24T00:00:00+03:00\",\"2018-09-24T01:00:00+03:00\",\"2018-09-24T02:00:00+03:00\",\"2018-09-24T03:00:00+03:00\",\"2018-09-24T04:00:00+03:00\",\"2018-09-24T05:00:00+03:00\",\"2018-09-24T06:00:00+03:00\",\"2018-09-24T07:00:00+03:00\",\"2018-09-24T08:00:00+03:00\",\"2018-09-24T09:00:00+03:00\",\"2018-09-24T10:00:00+03:00\",\"2018-09-24T11:00:00+03:00\",\"2018-09-24T12:00:00+03:00\",\"2018-09-24T13:00:00+03:00\",\"2018-09-24T14:00:00+03:00\",\"2018-09-24T15:00:00+03:00\",\"2018-09-24T16:00:00+03:00\",\"2018-09-24T17:00:00+03:00\",\"2018-09-24T18:00:00+03:00\",\"2018-09-24T19:00:00+03:00\",\"2018-09-24T20:00:00+03:00\",\"2018-09-24T21:00:00+03:00\",\"2018-09-24T22:00:00+03:00\",\"2018-09-24T23:00:00+03:00\",\"2018-09-25T00:00:00+03:00\",\"2018-09-25T01:00:00+03:00\",\"2018-09-25T02:00:00+03:00\",\"2018-09-25T03:00:00+03:00\",\"2018-09-25T04:00:00+03:00\",\"2018-09-25T05:00:00+03:00\",\"2018-09-25T06:00:00+03:00\",\"2018-09-25T07:00:00+03:00\",\"2018-09-25T08:00:00+03:00\",\"2018-09-25T09:00:00+03:00\",\"2018-09-25T10:00:00+03:00\",\"2018-09-25T11:00:00+03:00\",\"2018-09-25T12:00:00+03:00\",\"2018-09-25T13:00:00+03:00\",\"2018-09-25T14:00:00+03:00\",\"2018-09-25T15:00:00+03:00\",\"2018-09-25T16:00:00+03:00\",\"2018-09-25T17:00:00+03:00\",\"2018-09-25T18:00:00+03:00\",\"2018-09-25T19:00:00+03:00\",\"2018-09-25T20:00:00+03:00\",\"2018-09-25T21:00:00+03:00\",\"2018-09-25T22:00:00+03:00\",\"2018-09-25T23:00:00+03:00\",\"2018-09-26T00:00:00+03:00\",\"2018-09-26T01:00:00+03:00\",\"2018-09-26T02:00:00+03:00\",\"2018-09-26T03:00:00+03:00\",\"2018-09-26T04:00:00+03:00\",\"2018-09-26T05:00:00+03:00\",\"2018-09-26T06:00:00+03:00\",\"2018-09-26T07:00:00+03:00\",\"2018-09-26T08:00:00+03:00\",\"2018-09-26T09:00:00+03:00\",\"2018-09-26T10:00:00+03:00\",\"2018-09-26T11:00:00+03:00\",\"2018-09-26T12:00:00+03:00\",\"2018-09-26T13:00:00+03:00\",\"2018-09-26T14:00:00+03:00\",\"2018-09-26T15:00:00+03:00\",\"2018-09-26T16:00:00+03:00\",\"2018-09-26T17:00:00+03:00\",\"2018-09-26T18:00:00+03:00\",\"2018-09-26T19:00:00+03:00\",\"2018-09-26T20:00:00+03:00\",\"2018-09-26T21:00:00+03:00\",\"2018-09-26T22:00:00+03:00\",\"2018-09-26T23:00:00+03:00\",\"2018-09-27T00:00:00+03:00\",\"2018-09-27T01:00:00+03:00\",\"2018-09-27T02:00:00+03:00\",\"2018-09-27T03:00:00+03:00\",\"2018-09-27T04:00:00+03:00\",\"2018-09-27T05:00:00+03:00\",\"2018-09-27T06:00:00+03:00\",\"2018-09-27T07:00:00+03:00\",\"2018-09-27T08:00:00+03:00\",\"2018-09-27T09:00:00+03:00\",\"2018-09-27T10:00:00+03:00\",\"2018-09-27T11:00:00+03:00\",\"2018-09-27T12:00:00+03:00\",\"2018-09-27T13:00:00+03:00\",\"2018-09-27T14:00:00+03:00\",\"2018-09-27T15:00:00+03:00\",\"2018-09-27T16:00:00+03:00\"],\"xaxis\":\"x\",\"y\":[3.4608333333333334,10.300833333333333,7.720624999999999,8.022499999999999,7.550208333333334,6.259574468085106,5.052708333333333,4.471489361702128,4.862708333333333,4.841666666666667,4.954791666666667,12.889791666666667,27.486666666666665,31.665208333333336,36.53104166666667,18.370208333333334,9.963958333333332,7.679583333333333,2.6472916666666664,2.5279166666666666,2.6608695652173915,2.6733333333333333,2.5812500000000003,2.618125,2.8206382978723403,5.224166666666666,8.431666666666667,7.305416666666667,5.77875,4.602708333333333,3.97125,3.5925,3.3559574468085103,4.0424999999999995,5.891276595744681,10.512708333333334,17.745833333333334,19.918541666666666,19.87333333333333,16.443125,10.266250000000001,6.975625,5.019583333333333,4.274375,4.922083333333333,5.832826086956522,5.9245833333333335,4.864468085106383,5.298958333333333,5.716666666666666,6.888125,6.992291666666667,6.7375,6.589166666666666,5.625208333333333,5.075625,6.361041666666666,16.077083333333334,12.87375,10.34468085106383,10.637500000000001,13.129166666666668,14.442340425531913,17.136666666666667,12.491666666666667,9.881041666666667,8.843333333333334,6.0945833333333335,3.4439583333333332,2.8989583333333333,1.852608695652174,1.4193749999999998,1.6175,2.50875,3.1981249999999997,4.789591836734694,4.783125,4.840208333333333,4.037708333333334,3.8072916666666665,3.436666666666667,2.970625,2.625,2.2514583333333333,2.858125,3.45875,5.073125,6.6691666666666665,6.039375,4.13936170212766,3.218541666666667,3.284893617021276,2.8195833333333336,3.2112499999999997,2.8035416666666664,2.8939583333333334,3.03375,3.3441666666666667,4.851875000000001,5.233333333333333,5.123191489361702,5.6883333333333335,5.015,4.801666666666667,4.770833333333333,5.1656249999999995,7.215833333333333,6.155744680851064,5.537916666666667,6.0057446808510635,5.506666666666667,4.745,4.371041666666667,5.487708333333334,4.731458333333333,3.8542553191489364,3.3738297872340426,3.015416666666667,3.0908333333333338,3.8699999999999997,4.383125,4.3275,5.769375,6.442083333333334,6.678541666666667,5.609791666666666,4.98625,5.10595744680851,5.748333333333334,5.592291666666667,6.425,10.328125,12.161875,10.342127659574468,12.067916666666667,13.020625,8.972291666666667,7.219148936170213,6.447083333333333,5.132708333333333,4.9731250000000005,4.397291666666667,4.2179166666666665,4.006170212765957,3.91,3.8545833333333337,6.764583333333333,9.088333333333333,7.776666666666666,5.84875,5.2527083333333335,4.458541666666666,3.42625,3.0102083333333334,2.82875,2.6833333333333336,3.0522916666666666,5.295,9.761875,8.360425531914894,5.482291666666666,4.037708333333334,3.4675,3.37125,3.3691666666666666,3.713125,4.4125000000000005,3.949583333333333,3.8775,4.237916666666666,4.7406250000000005,5.209583333333334,5.0314893617021275,4.755416666666666,4.206666666666667,3.7089583333333334,3.513541666666667,3.4031249999999997,3.451458333333333,4.624791666666667,11.371875000000001,17.716808510638298,17.115957446808512,10.620909090909091,7.216956521739131,6.09,3.4130434782608696,2.69,3.1626086956521737,3.1975,3.2969565217391303,3.9369565217391305,4.247391304347826,4.025454545454545,5.479565217391304,5.936521739130434,5.476521739130434,4.79375,4.389130434782609,4.130434782608695,4.391739130434783,5.233478260869566,5.86,11.839130434782609,18.348333333333333,13.724347826086957,12.905652173913042,11.024347826086956,7.570869565217391,4.395652173913043,3.6795652173913043,3.111739130434782,3.467391304347826,3.308695652173913,3.680434782608696,3.3686956521739133,5.68625,3.7404347826086957,4.543913043478261,4.575217391304348,4.398695652173913,4.291739130434783,4.52875,4.927391304347826,5.274347826086957,6.288695652173913,7.935,8.68125,10.509166666666667,11.964166666666666,12.185,13.694583333333334,10.848333333333334,4.406666666666667,3.1062499999999997,2.9141666666666666,2.9126086956521737,3.1779166666666665,3.8249999999999997,3.8991666666666664,5.027083333333334,5.888333333333333,7.520833333333333,8.116249999999999,8.32625,8.074166666666667,8.237916666666667,8.922083333333333,9.7225,10.638333333333334,12.728333333333333,13.20875,14.21125,14.571666666666667,14.870833333333332,13.111666666666666,10.99,10.157083333333334,9.784166666666666,8.421249999999999,8.744166666666667,8.867916666666666,9.43,10.237894736842106],\"yaxis\":\"y\",\"type\":\"scatter\"},{\"hovertemplate\":\"variable=y_pred_wfv<br>timestamp=%{x}<br>value=%{y}<extra></extra>\",\"legendgroup\":\"y_pred_wfv\",\"line\":{\"color\":\"#EF553B\",\"dash\":\"solid\"},\"marker\":{\"symbol\":\"circle\"},\"mode\":\"lines\",\"name\":\"y_pred_wfv\",\"orientation\":\"v\",\"showlegend\":true,\"x\":[\"2018-09-16T17:00:00+03:00\",\"2018-09-16T18:00:00+03:00\",\"2018-09-16T19:00:00+03:00\",\"2018-09-16T20:00:00+03:00\",\"2018-09-16T21:00:00+03:00\",\"2018-09-16T22:00:00+03:00\",\"2018-09-16T23:00:00+03:00\",\"2018-09-17T00:00:00+03:00\",\"2018-09-17T01:00:00+03:00\",\"2018-09-17T02:00:00+03:00\",\"2018-09-17T03:00:00+03:00\",\"2018-09-17T04:00:00+03:00\",\"2018-09-17T05:00:00+03:00\",\"2018-09-17T06:00:00+03:00\",\"2018-09-17T07:00:00+03:00\",\"2018-09-17T08:00:00+03:00\",\"2018-09-17T09:00:00+03:00\",\"2018-09-17T10:00:00+03:00\",\"2018-09-17T11:00:00+03:00\",\"2018-09-17T12:00:00+03:00\",\"2018-09-17T13:00:00+03:00\",\"2018-09-17T14:00:00+03:00\",\"2018-09-17T15:00:00+03:00\",\"2018-09-17T16:00:00+03:00\",\"2018-09-17T17:00:00+03:00\",\"2018-09-17T18:00:00+03:00\",\"2018-09-17T19:00:00+03:00\",\"2018-09-17T20:00:00+03:00\",\"2018-09-17T21:00:00+03:00\",\"2018-09-17T22:00:00+03:00\",\"2018-09-17T23:00:00+03:00\",\"2018-09-18T00:00:00+03:00\",\"2018-09-18T01:00:00+03:00\",\"2018-09-18T02:00:00+03:00\",\"2018-09-18T03:00:00+03:00\",\"2018-09-18T04:00:00+03:00\",\"2018-09-18T05:00:00+03:00\",\"2018-09-18T06:00:00+03:00\",\"2018-09-18T07:00:00+03:00\",\"2018-09-18T08:00:00+03:00\",\"2018-09-18T09:00:00+03:00\",\"2018-09-18T10:00:00+03:00\",\"2018-09-18T11:00:00+03:00\",\"2018-09-18T12:00:00+03:00\",\"2018-09-18T13:00:00+03:00\",\"2018-09-18T14:00:00+03:00\",\"2018-09-18T15:00:00+03:00\",\"2018-09-18T16:00:00+03:00\",\"2018-09-18T17:00:00+03:00\",\"2018-09-18T18:00:00+03:00\",\"2018-09-18T19:00:00+03:00\",\"2018-09-18T20:00:00+03:00\",\"2018-09-18T21:00:00+03:00\",\"2018-09-18T22:00:00+03:00\",\"2018-09-18T23:00:00+03:00\",\"2018-09-19T00:00:00+03:00\",\"2018-09-19T01:00:00+03:00\",\"2018-09-19T02:00:00+03:00\",\"2018-09-19T03:00:00+03:00\",\"2018-09-19T04:00:00+03:00\",\"2018-09-19T05:00:00+03:00\",\"2018-09-19T06:00:00+03:00\",\"2018-09-19T07:00:00+03:00\",\"2018-09-19T08:00:00+03:00\",\"2018-09-19T09:00:00+03:00\",\"2018-09-19T10:00:00+03:00\",\"2018-09-19T11:00:00+03:00\",\"2018-09-19T12:00:00+03:00\",\"2018-09-19T13:00:00+03:00\",\"2018-09-19T14:00:00+03:00\",\"2018-09-19T15:00:00+03:00\",\"2018-09-19T16:00:00+03:00\",\"2018-09-19T17:00:00+03:00\",\"2018-09-19T18:00:00+03:00\",\"2018-09-19T19:00:00+03:00\",\"2018-09-19T20:00:00+03:00\",\"2018-09-19T21:00:00+03:00\",\"2018-09-19T22:00:00+03:00\",\"2018-09-19T23:00:00+03:00\",\"2018-09-20T00:00:00+03:00\",\"2018-09-20T01:00:00+03:00\",\"2018-09-20T02:00:00+03:00\",\"2018-09-20T03:00:00+03:00\",\"2018-09-20T04:00:00+03:00\",\"2018-09-20T05:00:00+03:00\",\"2018-09-20T06:00:00+03:00\",\"2018-09-20T07:00:00+03:00\",\"2018-09-20T08:00:00+03:00\",\"2018-09-20T09:00:00+03:00\",\"2018-09-20T10:00:00+03:00\",\"2018-09-20T11:00:00+03:00\",\"2018-09-20T12:00:00+03:00\",\"2018-09-20T13:00:00+03:00\",\"2018-09-20T14:00:00+03:00\",\"2018-09-20T15:00:00+03:00\",\"2018-09-20T16:00:00+03:00\",\"2018-09-20T17:00:00+03:00\",\"2018-09-20T18:00:00+03:00\",\"2018-09-20T19:00:00+03:00\",\"2018-09-20T20:00:00+03:00\",\"2018-09-20T21:00:00+03:00\",\"2018-09-20T22:00:00+03:00\",\"2018-09-20T23:00:00+03:00\",\"2018-09-21T00:00:00+03:00\",\"2018-09-21T01:00:00+03:00\",\"2018-09-21T02:00:00+03:00\",\"2018-09-21T03:00:00+03:00\",\"2018-09-21T04:00:00+03:00\",\"2018-09-21T05:00:00+03:00\",\"2018-09-21T06:00:00+03:00\",\"2018-09-21T07:00:00+03:00\",\"2018-09-21T08:00:00+03:00\",\"2018-09-21T09:00:00+03:00\",\"2018-09-21T10:00:00+03:00\",\"2018-09-21T11:00:00+03:00\",\"2018-09-21T12:00:00+03:00\",\"2018-09-21T13:00:00+03:00\",\"2018-09-21T14:00:00+03:00\",\"2018-09-21T15:00:00+03:00\",\"2018-09-21T16:00:00+03:00\",\"2018-09-21T17:00:00+03:00\",\"2018-09-21T18:00:00+03:00\",\"2018-09-21T19:00:00+03:00\",\"2018-09-21T20:00:00+03:00\",\"2018-09-21T21:00:00+03:00\",\"2018-09-21T22:00:00+03:00\",\"2018-09-21T23:00:00+03:00\",\"2018-09-22T00:00:00+03:00\",\"2018-09-22T01:00:00+03:00\",\"2018-09-22T02:00:00+03:00\",\"2018-09-22T03:00:00+03:00\",\"2018-09-22T04:00:00+03:00\",\"2018-09-22T05:00:00+03:00\",\"2018-09-22T06:00:00+03:00\",\"2018-09-22T07:00:00+03:00\",\"2018-09-22T08:00:00+03:00\",\"2018-09-22T09:00:00+03:00\",\"2018-09-22T10:00:00+03:00\",\"2018-09-22T11:00:00+03:00\",\"2018-09-22T12:00:00+03:00\",\"2018-09-22T13:00:00+03:00\",\"2018-09-22T14:00:00+03:00\",\"2018-09-22T15:00:00+03:00\",\"2018-09-22T16:00:00+03:00\",\"2018-09-22T17:00:00+03:00\",\"2018-09-22T18:00:00+03:00\",\"2018-09-22T19:00:00+03:00\",\"2018-09-22T20:00:00+03:00\",\"2018-09-22T21:00:00+03:00\",\"2018-09-22T22:00:00+03:00\",\"2018-09-22T23:00:00+03:00\",\"2018-09-23T00:00:00+03:00\",\"2018-09-23T01:00:00+03:00\",\"2018-09-23T02:00:00+03:00\",\"2018-09-23T03:00:00+03:00\",\"2018-09-23T04:00:00+03:00\",\"2018-09-23T05:00:00+03:00\",\"2018-09-23T06:00:00+03:00\",\"2018-09-23T07:00:00+03:00\",\"2018-09-23T08:00:00+03:00\",\"2018-09-23T09:00:00+03:00\",\"2018-09-23T10:00:00+03:00\",\"2018-09-23T11:00:00+03:00\",\"2018-09-23T12:00:00+03:00\",\"2018-09-23T13:00:00+03:00\",\"2018-09-23T14:00:00+03:00\",\"2018-09-23T15:00:00+03:00\",\"2018-09-23T16:00:00+03:00\",\"2018-09-23T17:00:00+03:00\",\"2018-09-23T18:00:00+03:00\",\"2018-09-23T19:00:00+03:00\",\"2018-09-23T20:00:00+03:00\",\"2018-09-23T21:00:00+03:00\",\"2018-09-23T22:00:00+03:00\",\"2018-09-23T23:00:00+03:00\",\"2018-09-24T00:00:00+03:00\",\"2018-09-24T01:00:00+03:00\",\"2018-09-24T02:00:00+03:00\",\"2018-09-24T03:00:00+03:00\",\"2018-09-24T04:00:00+03:00\",\"2018-09-24T05:00:00+03:00\",\"2018-09-24T06:00:00+03:00\",\"2018-09-24T07:00:00+03:00\",\"2018-09-24T08:00:00+03:00\",\"2018-09-24T09:00:00+03:00\",\"2018-09-24T10:00:00+03:00\",\"2018-09-24T11:00:00+03:00\",\"2018-09-24T12:00:00+03:00\",\"2018-09-24T13:00:00+03:00\",\"2018-09-24T14:00:00+03:00\",\"2018-09-24T15:00:00+03:00\",\"2018-09-24T16:00:00+03:00\",\"2018-09-24T17:00:00+03:00\",\"2018-09-24T18:00:00+03:00\",\"2018-09-24T19:00:00+03:00\",\"2018-09-24T20:00:00+03:00\",\"2018-09-24T21:00:00+03:00\",\"2018-09-24T22:00:00+03:00\",\"2018-09-24T23:00:00+03:00\",\"2018-09-25T00:00:00+03:00\",\"2018-09-25T01:00:00+03:00\",\"2018-09-25T02:00:00+03:00\",\"2018-09-25T03:00:00+03:00\",\"2018-09-25T04:00:00+03:00\",\"2018-09-25T05:00:00+03:00\",\"2018-09-25T06:00:00+03:00\",\"2018-09-25T07:00:00+03:00\",\"2018-09-25T08:00:00+03:00\",\"2018-09-25T09:00:00+03:00\",\"2018-09-25T10:00:00+03:00\",\"2018-09-25T11:00:00+03:00\",\"2018-09-25T12:00:00+03:00\",\"2018-09-25T13:00:00+03:00\",\"2018-09-25T14:00:00+03:00\",\"2018-09-25T15:00:00+03:00\",\"2018-09-25T16:00:00+03:00\",\"2018-09-25T17:00:00+03:00\",\"2018-09-25T18:00:00+03:00\",\"2018-09-25T19:00:00+03:00\",\"2018-09-25T20:00:00+03:00\",\"2018-09-25T21:00:00+03:00\",\"2018-09-25T22:00:00+03:00\",\"2018-09-25T23:00:00+03:00\",\"2018-09-26T00:00:00+03:00\",\"2018-09-26T01:00:00+03:00\",\"2018-09-26T02:00:00+03:00\",\"2018-09-26T03:00:00+03:00\",\"2018-09-26T04:00:00+03:00\",\"2018-09-26T05:00:00+03:00\",\"2018-09-26T06:00:00+03:00\",\"2018-09-26T07:00:00+03:00\",\"2018-09-26T08:00:00+03:00\",\"2018-09-26T09:00:00+03:00\",\"2018-09-26T10:00:00+03:00\",\"2018-09-26T11:00:00+03:00\",\"2018-09-26T12:00:00+03:00\",\"2018-09-26T13:00:00+03:00\",\"2018-09-26T14:00:00+03:00\",\"2018-09-26T15:00:00+03:00\",\"2018-09-26T16:00:00+03:00\",\"2018-09-26T17:00:00+03:00\",\"2018-09-26T18:00:00+03:00\",\"2018-09-26T19:00:00+03:00\",\"2018-09-26T20:00:00+03:00\",\"2018-09-26T21:00:00+03:00\",\"2018-09-26T22:00:00+03:00\",\"2018-09-26T23:00:00+03:00\",\"2018-09-27T00:00:00+03:00\",\"2018-09-27T01:00:00+03:00\",\"2018-09-27T02:00:00+03:00\",\"2018-09-27T03:00:00+03:00\",\"2018-09-27T04:00:00+03:00\",\"2018-09-27T05:00:00+03:00\",\"2018-09-27T06:00:00+03:00\",\"2018-09-27T07:00:00+03:00\",\"2018-09-27T08:00:00+03:00\",\"2018-09-27T09:00:00+03:00\",\"2018-09-27T10:00:00+03:00\",\"2018-09-27T11:00:00+03:00\",\"2018-09-27T12:00:00+03:00\",\"2018-09-27T13:00:00+03:00\",\"2018-09-27T14:00:00+03:00\",\"2018-09-27T15:00:00+03:00\",\"2018-09-27T16:00:00+03:00\"],\"xaxis\":\"x\",\"y\":[3.286240144374273,5.144784585042405,11.806077588193547,6.989316171958529,8.483240154478953,6.799874324654042,6.457134193280105,4.321791819590877,4.614404502465525,5.186462752586062,5.465409575359872,6.6452571867593955,14.896193829808547,28.19861952648683,28.659405095831755,31.836297622927173,10.138531832235639,6.369234033472465,4.874150488301167,2.994545374401799,2.308707452593607,3.2206845506176105,3.540022573560362,2.7404418703169022,6.110283096280741,4.194213407938214,6.774667403376304,8.70167144014241,6.207168205413336,4.796511339007015,3.213419816184107,3.4997759465844487,3.42621728307828,5.0020551561049595,7.635314870318277,11.34600622499431,17.0761087318915,23.35367842377551,18.52050665590937,17.10189990321225,10.7230485944503,6.408896561526719,5.3179419319508,4.162419043546686,4.362770971203014,4.961355363079152,6.210869351092767,5.968839340698053,5.499776047790034,6.724486361077932,6.489134983790892,7.373599939915763,6.235545952016848,5.8419403646754535,5.4891770011738945,4.916046217331197,5.059512669078551,7.166524953484073,18.188139125239008,13.352434565468227,12.475551461003848,12.41359608917184,14.262759923667671,12.617349866662579,15.182438362504719,9.059177503183404,7.464221129818482,7.904130975695518,6.105067059099509,3.6191318720930017,3.8485741779326785,2.6488608347440206,2.4225480567950743,3.4305243295723526,4.009008341925377,3.87307998670827,5.712413913163427,5.020140496030583,5.149154653896377,4.728623001570159,6.309467248874254,5.1411633107197865,5.682502730495794,4.125757103948449,4.441133821521634,5.905697741492214,6.698950977674981,7.11455647561561,7.9774955793459625,5.986256128659095,3.9463409892315404,3.322720457720927,3.4815726619574217,2.7996898671265025,3.689128207891622,3.1507801412231244,3.652146146458373,3.9663080658459,4.733473977162532,5.940418915207796,5.952394079742844,5.451941080734953,5.869405222315782,5.03608641942555,4.8600150680704814,4.784665438499816,5.408830064411209,7.393886807073885,6.104738979077364,6.192445739498478,6.742187808233064,6.2503067439112705,4.960911195702138,4.563188582695408,5.704119882852396,4.440547095285639,4.2288027839654925,3.65264051034941,3.63136558863954,3.6442587545506795,4.678452526337553,5.2890721098720235,4.951728506990076,6.616522713829126,6.77634250601874,6.794463785505554,5.628490202600137,5.237837718845227,5.623687514642995,6.686597996290341,6.126916892981794,7.037489173961186,10.53950049094567,11.369687365749884,9.166256317259545,11.23242183718831,11.829365479450402,7.364068990957727,6.564826068161415,6.09233531191296,4.683474299763579,4.847122791161252,4.954217847639573,4.709802700171642,4.509032024859466,5.006714927193618,4.65703463453965,7.8510200814759585,8.956038197811672,6.842258888862652,5.231709902116694,5.38815430332851,4.7695929940283035,4.357169344903808,5.061543713076354,5.005111361548633,4.829089527143325,5.49569891253103,7.200485617019088,10.733134122831252,7.766322646966131,4.705941843600834,3.905634704889998,4.067874453067834,3.6350969259850414,4.013729421606818,4.347458016586443,4.754922960279536,4.5818476193760205,5.286918812304961,5.793760451684508,6.108809672131123,5.8345597896024595,5.2134477888729425,4.729461384047964,4.0940253667661874,3.7279131619588775,3.7480757261714084,3.9153364150703682,4.159555058872846,5.861646935427612,13.111132136690417,17.41943936120377,14.975020571379885,7.491607495591829,5.7334691331929095,5.5421256404348025,3.393037280150111,3.529567758409221,4.0093020751233865,3.745209717112776,3.970658110842299,5.029679704413054,5.031313130589616,4.517784843245623,6.136510213933373,6.03383809243284,5.280373503296718,4.279279744817794,4.107818784332169,4.135674420689263,4.919030776320456,6.324629192548885,7.976574241737109,14.921729107047543,19.720818421362864,11.993348344889329,11.180294177888307,8.460811930812937,5.977838029431181,3.254868299258718,4.208105366186318,3.2148009153425945,3.870356757586786,4.291698108779351,4.433513610168844,4.040719158012397,6.738683229551098,3.817536903765893,5.523281202330201,4.483328736747114,4.446830954328678,3.930564672192291,5.04896112508788,5.412123528095264,6.091363940498503,8.788587334618516,10.504380757017156,10.398421718263444,11.86050964281204,11.079740722478688,10.954518880395812,11.755465451474308,8.438582287822314,2.7027747396751587,3.3170228315080945,3.566832085383675,3.7284097437128456,3.8380764536867003,5.035353008394096,4.023435142344069,5.8613291824798495,6.0823292386854595,7.552742649926436,7.513081821961043,7.673774274577561,7.379415209796444,7.942149889430151,8.76013687272017,9.713158910905374,10.888464542721138,13.243705840849664,13.190530304831729,14.28626587968673,14.233164042814538,13.579186436056714,10.584480670000481,8.632144143236376,7.908180520365319,8.401669483872727,7.323448390048966,8.088876712864796,8.191053444567642,8.976010418127794],\"yaxis\":\"y\",\"type\":\"scatter\"}],                        {\"template\":{\"data\":{\"histogram2dcontour\":[{\"type\":\"histogram2dcontour\",\"colorbar\":{\"outlinewidth\":0,\"ticks\":\"\"},\"colorscale\":[[0.0,\"#0d0887\"],[0.1111111111111111,\"#46039f\"],[0.2222222222222222,\"#7201a8\"],[0.3333333333333333,\"#9c179e\"],[0.4444444444444444,\"#bd3786\"],[0.5555555555555556,\"#d8576b\"],[0.6666666666666666,\"#ed7953\"],[0.7777777777777778,\"#fb9f3a\"],[0.8888888888888888,\"#fdca26\"],[1.0,\"#f0f921\"]]}],\"choropleth\":[{\"type\":\"choropleth\",\"colorbar\":{\"outlinewidth\":0,\"ticks\":\"\"}}],\"histogram2d\":[{\"type\":\"histogram2d\",\"colorbar\":{\"outlinewidth\":0,\"ticks\":\"\"},\"colorscale\":[[0.0,\"#0d0887\"],[0.1111111111111111,\"#46039f\"],[0.2222222222222222,\"#7201a8\"],[0.3333333333333333,\"#9c179e\"],[0.4444444444444444,\"#bd3786\"],[0.5555555555555556,\"#d8576b\"],[0.6666666666666666,\"#ed7953\"],[0.7777777777777778,\"#fb9f3a\"],[0.8888888888888888,\"#fdca26\"],[1.0,\"#f0f921\"]]}],\"heatmap\":[{\"type\":\"heatmap\",\"colorbar\":{\"outlinewidth\":0,\"ticks\":\"\"},\"colorscale\":[[0.0,\"#0d0887\"],[0.1111111111111111,\"#46039f\"],[0.2222222222222222,\"#7201a8\"],[0.3333333333333333,\"#9c179e\"],[0.4444444444444444,\"#bd3786\"],[0.5555555555555556,\"#d8576b\"],[0.6666666666666666,\"#ed7953\"],[0.7777777777777778,\"#fb9f3a\"],[0.8888888888888888,\"#fdca26\"],[1.0,\"#f0f921\"]]}],\"heatmapgl\":[{\"type\":\"heatmapgl\",\"colorbar\":{\"outlinewidth\":0,\"ticks\":\"\"},\"colorscale\":[[0.0,\"#0d0887\"],[0.1111111111111111,\"#46039f\"],[0.2222222222222222,\"#7201a8\"],[0.3333333333333333,\"#9c179e\"],[0.4444444444444444,\"#bd3786\"],[0.5555555555555556,\"#d8576b\"],[0.6666666666666666,\"#ed7953\"],[0.7777777777777778,\"#fb9f3a\"],[0.8888888888888888,\"#fdca26\"],[1.0,\"#f0f921\"]]}],\"contourcarpet\":[{\"type\":\"contourcarpet\",\"colorbar\":{\"outlinewidth\":0,\"ticks\":\"\"}}],\"contour\":[{\"type\":\"contour\",\"colorbar\":{\"outlinewidth\":0,\"ticks\":\"\"},\"colorscale\":[[0.0,\"#0d0887\"],[0.1111111111111111,\"#46039f\"],[0.2222222222222222,\"#7201a8\"],[0.3333333333333333,\"#9c179e\"],[0.4444444444444444,\"#bd3786\"],[0.5555555555555556,\"#d8576b\"],[0.6666666666666666,\"#ed7953\"],[0.7777777777777778,\"#fb9f3a\"],[0.8888888888888888,\"#fdca26\"],[1.0,\"#f0f921\"]]}],\"surface\":[{\"type\":\"surface\",\"colorbar\":{\"outlinewidth\":0,\"ticks\":\"\"},\"colorscale\":[[0.0,\"#0d0887\"],[0.1111111111111111,\"#46039f\"],[0.2222222222222222,\"#7201a8\"],[0.3333333333333333,\"#9c179e\"],[0.4444444444444444,\"#bd3786\"],[0.5555555555555556,\"#d8576b\"],[0.6666666666666666,\"#ed7953\"],[0.7777777777777778,\"#fb9f3a\"],[0.8888888888888888,\"#fdca26\"],[1.0,\"#f0f921\"]]}],\"mesh3d\":[{\"type\":\"mesh3d\",\"colorbar\":{\"outlinewidth\":0,\"ticks\":\"\"}}],\"scatter\":[{\"fillpattern\":{\"fillmode\":\"overlay\",\"size\":10,\"solidity\":0.2},\"type\":\"scatter\"}],\"parcoords\":[{\"type\":\"parcoords\",\"line\":{\"colorbar\":{\"outlinewidth\":0,\"ticks\":\"\"}}}],\"scatterpolargl\":[{\"type\":\"scatterpolargl\",\"marker\":{\"colorbar\":{\"outlinewidth\":0,\"ticks\":\"\"}}}],\"bar\":[{\"error_x\":{\"color\":\"#2a3f5f\"},\"error_y\":{\"color\":\"#2a3f5f\"},\"marker\":{\"line\":{\"color\":\"#E5ECF6\",\"width\":0.5},\"pattern\":{\"fillmode\":\"overlay\",\"size\":10,\"solidity\":0.2}},\"type\":\"bar\"}],\"scattergeo\":[{\"type\":\"scattergeo\",\"marker\":{\"colorbar\":{\"outlinewidth\":0,\"ticks\":\"\"}}}],\"scatterpolar\":[{\"type\":\"scatterpolar\",\"marker\":{\"colorbar\":{\"outlinewidth\":0,\"ticks\":\"\"}}}],\"histogram\":[{\"marker\":{\"pattern\":{\"fillmode\":\"overlay\",\"size\":10,\"solidity\":0.2}},\"type\":\"histogram\"}],\"scattergl\":[{\"type\":\"scattergl\",\"marker\":{\"colorbar\":{\"outlinewidth\":0,\"ticks\":\"\"}}}],\"scatter3d\":[{\"type\":\"scatter3d\",\"line\":{\"colorbar\":{\"outlinewidth\":0,\"ticks\":\"\"}},\"marker\":{\"colorbar\":{\"outlinewidth\":0,\"ticks\":\"\"}}}],\"scattermapbox\":[{\"type\":\"scattermapbox\",\"marker\":{\"colorbar\":{\"outlinewidth\":0,\"ticks\":\"\"}}}],\"scatterternary\":[{\"type\":\"scatterternary\",\"marker\":{\"colorbar\":{\"outlinewidth\":0,\"ticks\":\"\"}}}],\"scattercarpet\":[{\"type\":\"scattercarpet\",\"marker\":{\"colorbar\":{\"outlinewidth\":0,\"ticks\":\"\"}}}],\"carpet\":[{\"aaxis\":{\"endlinecolor\":\"#2a3f5f\",\"gridcolor\":\"white\",\"linecolor\":\"white\",\"minorgridcolor\":\"white\",\"startlinecolor\":\"#2a3f5f\"},\"baxis\":{\"endlinecolor\":\"#2a3f5f\",\"gridcolor\":\"white\",\"linecolor\":\"white\",\"minorgridcolor\":\"white\",\"startlinecolor\":\"#2a3f5f\"},\"type\":\"carpet\"}],\"table\":[{\"cells\":{\"fill\":{\"color\":\"#EBF0F8\"},\"line\":{\"color\":\"white\"}},\"header\":{\"fill\":{\"color\":\"#C8D4E3\"},\"line\":{\"color\":\"white\"}},\"type\":\"table\"}],\"barpolar\":[{\"marker\":{\"line\":{\"color\":\"#E5ECF6\",\"width\":0.5},\"pattern\":{\"fillmode\":\"overlay\",\"size\":10,\"solidity\":0.2}},\"type\":\"barpolar\"}],\"pie\":[{\"automargin\":true,\"type\":\"pie\"}]},\"layout\":{\"autotypenumbers\":\"strict\",\"colorway\":[\"#636efa\",\"#EF553B\",\"#00cc96\",\"#ab63fa\",\"#FFA15A\",\"#19d3f3\",\"#FF6692\",\"#B6E880\",\"#FF97FF\",\"#FECB52\"],\"font\":{\"color\":\"#2a3f5f\"},\"hovermode\":\"closest\",\"hoverlabel\":{\"align\":\"left\"},\"paper_bgcolor\":\"white\",\"plot_bgcolor\":\"#E5ECF6\",\"polar\":{\"bgcolor\":\"#E5ECF6\",\"angularaxis\":{\"gridcolor\":\"white\",\"linecolor\":\"white\",\"ticks\":\"\"},\"radialaxis\":{\"gridcolor\":\"white\",\"linecolor\":\"white\",\"ticks\":\"\"}},\"ternary\":{\"bgcolor\":\"#E5ECF6\",\"aaxis\":{\"gridcolor\":\"white\",\"linecolor\":\"white\",\"ticks\":\"\"},\"baxis\":{\"gridcolor\":\"white\",\"linecolor\":\"white\",\"ticks\":\"\"},\"caxis\":{\"gridcolor\":\"white\",\"linecolor\":\"white\",\"ticks\":\"\"}},\"coloraxis\":{\"colorbar\":{\"outlinewidth\":0,\"ticks\":\"\"}},\"colorscale\":{\"sequential\":[[0.0,\"#0d0887\"],[0.1111111111111111,\"#46039f\"],[0.2222222222222222,\"#7201a8\"],[0.3333333333333333,\"#9c179e\"],[0.4444444444444444,\"#bd3786\"],[0.5555555555555556,\"#d8576b\"],[0.6666666666666666,\"#ed7953\"],[0.7777777777777778,\"#fb9f3a\"],[0.8888888888888888,\"#fdca26\"],[1.0,\"#f0f921\"]],\"sequentialminus\":[[0.0,\"#0d0887\"],[0.1111111111111111,\"#46039f\"],[0.2222222222222222,\"#7201a8\"],[0.3333333333333333,\"#9c179e\"],[0.4444444444444444,\"#bd3786\"],[0.5555555555555556,\"#d8576b\"],[0.6666666666666666,\"#ed7953\"],[0.7777777777777778,\"#fb9f3a\"],[0.8888888888888888,\"#fdca26\"],[1.0,\"#f0f921\"]],\"diverging\":[[0,\"#8e0152\"],[0.1,\"#c51b7d\"],[0.2,\"#de77ae\"],[0.3,\"#f1b6da\"],[0.4,\"#fde0ef\"],[0.5,\"#f7f7f7\"],[0.6,\"#e6f5d0\"],[0.7,\"#b8e186\"],[0.8,\"#7fbc41\"],[0.9,\"#4d9221\"],[1,\"#276419\"]]},\"xaxis\":{\"gridcolor\":\"white\",\"linecolor\":\"white\",\"ticks\":\"\",\"title\":{\"standoff\":15},\"zerolinecolor\":\"white\",\"automargin\":true,\"zerolinewidth\":2},\"yaxis\":{\"gridcolor\":\"white\",\"linecolor\":\"white\",\"ticks\":\"\",\"title\":{\"standoff\":15},\"zerolinecolor\":\"white\",\"automargin\":true,\"zerolinewidth\":2},\"scene\":{\"xaxis\":{\"backgroundcolor\":\"#E5ECF6\",\"gridcolor\":\"white\",\"linecolor\":\"white\",\"showbackground\":true,\"ticks\":\"\",\"zerolinecolor\":\"white\",\"gridwidth\":2},\"yaxis\":{\"backgroundcolor\":\"#E5ECF6\",\"gridcolor\":\"white\",\"linecolor\":\"white\",\"showbackground\":true,\"ticks\":\"\",\"zerolinecolor\":\"white\",\"gridwidth\":2},\"zaxis\":{\"backgroundcolor\":\"#E5ECF6\",\"gridcolor\":\"white\",\"linecolor\":\"white\",\"showbackground\":true,\"ticks\":\"\",\"zerolinecolor\":\"white\",\"gridwidth\":2}},\"shapedefaults\":{\"line\":{\"color\":\"#2a3f5f\"}},\"annotationdefaults\":{\"arrowcolor\":\"#2a3f5f\",\"arrowhead\":0,\"arrowwidth\":1},\"geo\":{\"bgcolor\":\"white\",\"landcolor\":\"#E5ECF6\",\"subunitcolor\":\"white\",\"showland\":true,\"showlakes\":true,\"lakecolor\":\"white\"},\"title\":{\"x\":0.05},\"mapbox\":{\"style\":\"light\"}}},\"xaxis\":{\"anchor\":\"y\",\"domain\":[0.0,1.0],\"title\":{\"text\":\"Date\"}},\"yaxis\":{\"anchor\":\"x\",\"domain\":[0.0,1.0],\"title\":{\"text\":\"PM2.5 level\"}},\"legend\":{\"title\":{\"text\":\"variable\"},\"tracegroupgap\":0},\"margin\":{\"t\":60},\"title\":{\"text\":\"Dar-es-salaam, Walk-forward validation Predictions\"}},                        {\"responsive\": true}                    ).then(function(){\n",
              "                            \n",
              "var gd = document.getElementById('2b859c6c-6131-4c78-9010-a5c0c1220018');\n",
              "var x = new MutationObserver(function (mutations, observer) {{\n",
              "        var display = window.getComputedStyle(gd).display;\n",
              "        if (!display || display === 'none') {{\n",
              "            console.log([gd, 'removed!']);\n",
              "            Plotly.purge(gd);\n",
              "            observer.disconnect();\n",
              "        }}\n",
              "}});\n",
              "\n",
              "// Listen for the removal of the full notebook cells\n",
              "var notebookContainer = gd.closest('#notebook-container');\n",
              "if (notebookContainer) {{\n",
              "    x.observe(notebookContainer, {childList: true});\n",
              "}}\n",
              "\n",
              "// Listen for the clearing of the current output cell\n",
              "var outputEl = gd.closest('.output');\n",
              "if (outputEl) {{\n",
              "    x.observe(outputEl, {childList: true});\n",
              "}}\n",
              "\n",
              "                        })                };                });            </script>        </div>"
            ]
          },
          "metadata": {},
          "output_type": "display_data"
        }
      ],
      "source": [
        "df_test = pd.DataFrame({'y_test': y_test, 'y_pred_wfv': y_pred_wfv})\n",
        "\n",
        "fig = px.line(df_test)\n",
        "fig.update_layout(\n",
        "    title= 'Dar-es-salaam, Walk-forward validation Predictions',\n",
        "    xaxis_title = 'Date',\n",
        "    yaxis_title= 'PM2.5 level'   \n",
        ")\n",
        "fig.show()"
      ]
    },
    {
      "cell_type": "code",
      "execution_count": null,
      "id": "5ad88013",
      "metadata": {
        "id": "5ad88013"
      },
      "outputs": [],
      "source": []
    }
  ],
  "metadata": {
    "kernelspec": {
      "display_name": "Python 3 (ipykernel)",
      "language": "python",
      "name": "python3"
    },
    "language_info": {
      "codemirror_mode": {
        "name": "ipython",
        "version": 3
      },
      "file_extension": ".py",
      "mimetype": "text/x-python",
      "name": "python",
      "nbconvert_exporter": "python",
      "pygments_lexer": "ipython3",
      "version": "3.7.13"
    },
    "colab": {
      "provenance": [],
      "include_colab_link": true
    }
  },
  "nbformat": 4,
  "nbformat_minor": 5
}